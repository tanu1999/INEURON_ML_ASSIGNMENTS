{
 "cells": [
  {
   "cell_type": "markdown",
   "id": "cbfbc8fd-799b-47a4-bb4e-ec53250333bc",
   "metadata": {},
   "source": [
    "1. In a linear equation, what is the difference between a dependent variable and an independent variable ?\n"
   ]
  },
  {
   "cell_type": "markdown",
   "id": "a0bbcbb2-0141-4427-a826-a49da51c7d2d",
   "metadata": {},
   "source": [
    "Algebraically, a linear equation typically takes the form y=mx + b, where m and b are constants, x is the \n",
    "independent variable, y is the dependent (x) variable, on average.\n",
    "\n",
    "The variable in a study of a cause-and-effect relationship are called the independent and dependent variables.The \n",
    "independent variable is the cause.Its value is independent of other variables in your study. The dependent variable\n",
    "is the effect."
   ]
  },
  {
   "cell_type": "markdown",
   "id": "6f8836f8-7d20-4ae3-a5b9-1daf6c307b99",
   "metadata": {},
   "source": [
    "2. What is the concept of simple linear regression? Give a specific example ?\n"
   ]
  },
  {
   "cell_type": "markdown",
   "id": "5fa6432f-6ce0-4ba8-8e05-313afb900724",
   "metadata": {},
   "source": [
    "Simple linear regression is a regression model that estimates the relationship between one independent variable \n",
    "and one dependent variable using a straight line.Both variables should be quantitative.Linear regression most often\n",
    "uses mean-square error (MSE) to calcualte the error of the model.\n",
    "\n",
    "For example,suppose that height was  the only determinant of body weight.In this example, if an individual was 70\n",
    "and inches tall, we would predict his weight to be : Weight =80 +2 x(70)=220 lbs. In this simple linear regression, we \n",
    "are examining the impact of one independent variable on the outcome."
   ]
  },
  {
   "cell_type": "markdown",
   "id": "2984c278-4c10-4c50-90e3-1de4de6bced4",
   "metadata": {},
   "source": [
    "3. In a linear regression, define the slope ?\n"
   ]
  },
  {
   "cell_type": "markdown",
   "id": "9ffc215e-59dc-4bb8-810a-f17c967d3313",
   "metadata": {},
   "source": [
    "The slope of a regression line (b) represented the rate of change in y as x changes. Because y is dependent on X,\n",
    "the slope describes the predicted values of y given x. The slope must be calculated before the y-intercept when using a\n",
    "linear regression, as the intercept is calculated using the slope."
   ]
  },
  {
   "cell_type": "markdown",
   "id": "2b85d012-4e75-4766-af9f-74ce6e3cc2db",
   "metadata": {},
   "source": [
    "4. Determine the graph's slope, where the lower point on the line is represented as (3, 2) and the higher point is represented as (2, 2) ?\n"
   ]
  },
  {
   "cell_type": "markdown",
   "id": "9afe1c0f-42b0-4e85-a669-291d710ed520",
   "metadata": {},
   "source": [
    "The graph's slope, where the lower point on the line is represented as (3,2) and the higher point is represented \n",
    "as (2,2) is 0"
   ]
  },
  {
   "cell_type": "markdown",
   "id": "77cb7bd2-d191-4e64-9a29-036ca784c155",
   "metadata": {},
   "source": [
    "5. In linear regression, what are the conditions for a positive slope ?\n"
   ]
  },
  {
   "cell_type": "markdown",
   "id": "588a3eea-d369-4fbd-ad1f-09824a6914a6",
   "metadata": {},
   "source": [
    "If the slope is positive ,Y increases as x increases, and the function runs \"uphill\"(going left to right).If the slope \n",
    "is zero,y does not change , thus is constant -a horizonal line."
   ]
  },
  {
   "cell_type": "markdown",
   "id": "efda9ebb-f0db-449a-946f-77467a484378",
   "metadata": {},
   "source": [
    "6. In linear regression, what are the conditions for a negative slope ?\n"
   ]
  },
  {
   "cell_type": "markdown",
   "id": "2f917698-5779-4647-ab23-a3ca3c5bf173",
   "metadata": {},
   "source": [
    "If the slope is negative ,y decreases as x increases and the function runs dowmhill.\n"
   ]
  },
  {
   "cell_type": "markdown",
   "id": "0babc151-cbdb-41be-848e-3ddfc07224bd",
   "metadata": {},
   "source": [
    "7. What is multiple linear regression and how does it work ?\n"
   ]
  },
  {
   "cell_type": "markdown",
   "id": "9ec8a4a2-03c0-46e2-a38c-245c3dc32df7",
   "metadata": {},
   "source": [
    "Multiple linear regression refers to a statistical technique that uses two or more independent variables to \n",
    "predict the outcome of a dependent variable.The technique enables analysts to determine the variation of the model and\n",
    "the relative contribution of each independent variable in the total variance."
   ]
  },
  {
   "cell_type": "markdown",
   "id": "053287fc-8849-497d-a252-71ffc6337ef2",
   "metadata": {},
   "source": [
    "8. In multiple linear regression, define the number of squares due to error ?\n"
   ]
  },
  {
   "cell_type": "markdown",
   "id": "4d517a77-f9a0-4c55-ac60-5a67ba9715d3",
   "metadata": {},
   "source": [
    "The mean squared error (MSE) tells you how close a regression line is to a set of points.It does this by taking \n",
    "the distance from the points to the regression line (these distance are the \"errors\") and squaring them. It's \n",
    "called the mean squared erroe as you're finding the average of a set of errors."
   ]
  },
  {
   "cell_type": "markdown",
   "id": "8a6a457d-fd01-488a-b9cb-f8e67db51683",
   "metadata": {},
   "source": [
    "9. In multiple linear regression, define the number of squares due to regression ?\n"
   ]
  },
  {
   "cell_type": "markdown",
   "id": "4c019fc5-d9b0-4430-a4e6-602dc2494885",
   "metadata": {},
   "source": [
    "Sum of square is a statistical technique used in regression analysis to determine the dispersion of data points \n",
    "In a regression analysis, the goal is to determine how well a data series can be fitted to a function that might help\n",
    "to explain how the data series was generated."
   ]
  },
  {
   "cell_type": "markdown",
   "id": "5fd42d74-daf1-4fdd-94ae-443578f65dff",
   "metadata": {},
   "source": [
    "\n",
    "10. In a regression equation, what is multicollinearity ?\n"
   ]
  },
  {
   "cell_type": "markdown",
   "id": "395ef0e8-e42a-404c-b6a8-e308e1f31b60",
   "metadata": {},
   "source": [
    "Multicollinearity occurs when two or more independent variables are highly correlated with one another in a \n",
    "regression model.This means that an independent variable can be predicted from another independent variable \n",
    "in a regression model."
   ]
  },
  {
   "cell_type": "markdown",
   "id": "1dbbdb2c-c063-4c56-9599-e45a5ae56c3f",
   "metadata": {},
   "source": [
    "11. What is heteroskedasticity, and what does it mean ?\n"
   ]
  },
  {
   "cell_type": "markdown",
   "id": "f1b37706-3055-412e-8acb-4a4f5487ba7c",
   "metadata": {},
   "source": [
    "Heteroskedasticity (also spelled heteroscedasticity) refers to the error variance, or dependence of scattering,\n",
    "within a minimum of one independent variable within a particular sample. A common cause of variances outside the minimum \n",
    "requirement is often attributed to issues of data quality."
   ]
  },
  {
   "cell_type": "markdown",
   "id": "6a2b2574-3815-4cc3-a1e0-9d45c893948c",
   "metadata": {},
   "source": [
    "12. Describe the concept of ridge regression ?\n"
   ]
  },
  {
   "cell_type": "markdown",
   "id": "03de411a-f54e-4581-b6a8-c64c008758c3",
   "metadata": {},
   "source": [
    "Ridge Regression is a technique for analysing multiple regression data that suffer from multicollinearity.By \n",
    "adding a degree of bias to the regression estimates, ridge regression reduce the standard errors. It is hoped that the \n",
    "net effect will be to give estimate that are more reliable."
   ]
  },
  {
   "cell_type": "markdown",
   "id": "ecf2cb11-a65f-43b3-9669-3518596ddc26",
   "metadata": {},
   "source": [
    "13. Describe the concept of lasso regression ?\n"
   ]
  },
  {
   "cell_type": "markdown",
   "id": "99e7e2a2-6aaa-446f-ba3f-954ba680d967",
   "metadata": {},
   "source": [
    "In statistics and machine learning, lasso (least absolute shrinkage and selection operator also Lasso or LASSO)\n",
    "is a regression analysis method that performs both variable selection and regualarization in order to enchance the \n",
    "prediction accuracy and interpretabilty of the resulting statistical model."
   ]
  },
  {
   "cell_type": "markdown",
   "id": "c260966a-6edb-4835-9bea-d8464a9dc0e6",
   "metadata": {},
   "source": [
    "14. What is polynomial regression and how does it work ?\n"
   ]
  },
  {
   "cell_type": "markdown",
   "id": "0972fd1d-9664-444a-aea3-08c97feb54db",
   "metadata": {},
   "source": [
    "Polynomial Regression is a form of linear regression known as a special case of multiple linear regression which \n",
    "estimate the relationship as an nth degree polynomial. Polynomial regression is sensitive to outlier so the presence\n",
    "of one or two outlier can also badly affect the performance."
   ]
  },
  {
   "cell_type": "markdown",
   "id": "0d3c5fc0-8ef4-4f94-ba96-c35f29ab5c15",
   "metadata": {},
   "source": [
    "15. Describe the basis function ?\n"
   ]
  },
  {
   "cell_type": "markdown",
   "id": "5f5305f1-8820-42db-8972-1ecb71b17997",
   "metadata": {},
   "source": [
    "This is a generalization of linear regression that essentially replace each input with a function of the input.\n",
    "(A linear basis function model that  uses the identify function is just linear regression.)"
   ]
  },
  {
   "cell_type": "markdown",
   "id": "960ec2a3-9808-4a34-b26a-5c2428a469dc",
   "metadata": {},
   "source": [
    "16. Describe how logistic regression works ?\n"
   ]
  },
  {
   "cell_type": "markdown",
   "id": "5a946669-c4c8-45c7-85cb-a25c8e1bdeea",
   "metadata": {},
   "source": [
    "Logistic regression used an equation as the representation, very much like linear regression.Input values (X) are \n",
    "combine linearly using weight or coefficient values(referred to as the Greek capital letter Beta) to predict an \n",
    "output value(y)."
   ]
  },
  {
   "cell_type": "code",
   "execution_count": null,
   "id": "98eed581-1291-443b-8d8e-684ffba5acc4",
   "metadata": {},
   "outputs": [],
   "source": []
  },
  {
   "cell_type": "code",
   "execution_count": null,
   "id": "2e61ccbb-a6bd-4e80-9a41-2a98eb73aa7b",
   "metadata": {},
   "outputs": [],
   "source": []
  },
  {
   "cell_type": "code",
   "execution_count": null,
   "id": "1d0f76d6-75f4-43b7-9932-6ce8e6519327",
   "metadata": {},
   "outputs": [],
   "source": []
  },
  {
   "cell_type": "code",
   "execution_count": null,
   "id": "22cce355-e156-4d62-8d97-058711077a70",
   "metadata": {},
   "outputs": [],
   "source": []
  },
  {
   "cell_type": "code",
   "execution_count": null,
   "id": "2b15aa13-b4b5-4f3f-951a-069e156d6eda",
   "metadata": {},
   "outputs": [],
   "source": []
  },
  {
   "cell_type": "code",
   "execution_count": null,
   "id": "95be17ec-3084-44e5-8057-6a715bb72c59",
   "metadata": {},
   "outputs": [],
   "source": []
  }
 ],
 "metadata": {
  "kernelspec": {
   "display_name": "Python 3 (ipykernel)",
   "language": "python",
   "name": "python3"
  },
  "language_info": {
   "codemirror_mode": {
    "name": "ipython",
    "version": 3
   },
   "file_extension": ".py",
   "mimetype": "text/x-python",
   "name": "python",
   "nbconvert_exporter": "python",
   "pygments_lexer": "ipython3",
   "version": "3.9.12"
  }
 },
 "nbformat": 4,
 "nbformat_minor": 5
}
