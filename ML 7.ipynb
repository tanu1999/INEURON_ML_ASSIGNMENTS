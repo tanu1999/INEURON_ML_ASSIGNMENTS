{
 "cells": [
  {
   "cell_type": "markdown",
   "id": "10d16842-ee7b-4453-b704-aa1df4024982",
   "metadata": {},
   "source": [
    "1. What is the definition of a target function? In the sense of a real-life example, express the target\n",
    "function. How is a target function's fitness assessed?\n"
   ]
  },
  {
   "cell_type": "markdown",
   "id": "281e4e82-874b-4b56-a545-604c61230edc",
   "metadata": {},
   "source": [
    " A target function, in machine learning, is a method for solving a problem that an AI algorithm parses its training data to find.The target function is essentially the formula that an algorithm feeds data to in order to calculate predictions.\n",
    "\n",
    "Analyzing the massive amounts of data related to its given problem, an AI derives understanding of previously unspecified rules by detecting consistencies in the data. The observations of inherent rules about how the studied subject operates inform the AI on how to process future data that does not include an output by applying this previously unknown function."
   ]
  },
  {
   "cell_type": "markdown",
   "id": "828a1a19-1087-4836-acf6-dbb2225b8ae6",
   "metadata": {},
   "source": [
    "2. What are predictive models, and how do they work? What are descriptive types, and how do you\n",
    "use them? Examples of both types of models should be provided. Distinguish between these two\n",
    "forms of models.\n"
   ]
  },
  {
   "cell_type": "markdown",
   "id": "c94be3c0-98d6-4e85-89b5-ba49c65861f4",
   "metadata": {},
   "source": [
    " In short, predictive modeling is a statistical technique using machine learning and data mining to predict and forecast likely future outcomes with the aid of historical and existing data.\n",
    "\n",
    "It works by analyzing current and historical data and projecting what it learns on a model generated to forecast likely outcomes.\n",
    "\n",
    "The three main types of descriptive studies are Case studies, Naturalistic observation, and Surveys.\n",
    "\n",
    "Some examples of descriptive research are: A specialty food group launching a new range of barbecue rubs would like to understand what flavors of rubs are favored by different people.\n",
    "\n",
    "Case Studies are a type of observational research that involve a thorough descriptive analysis of a single individual, group, or event. There is no single way to conduct a case study so researchers use a range of methods from unstructured interviewing to direct observation."
   ]
  },
  {
   "cell_type": "markdown",
   "id": "5ef498e5-4968-45b1-83d1-e340330c6333",
   "metadata": {},
   "source": [
    "3. Describe the method of assessing a classification model's efficiency in detail. Describe the various\n",
    "measurement parameters.\n"
   ]
  },
  {
   "cell_type": "markdown",
   "id": "7af19914-a739-4d9f-b579-48b742a23f4f",
   "metadata": {},
   "source": [
    " Logarithmic loss (or log loss) measures the performance of a classification model where the prediction is a probability value between 0 and 1.\n",
    "\n",
    "Log loss increases as the predicted probability diverge from the actual label. Log loss is a widely used metric for Kaggle competitions. Input on the most important basics for the measurement of the physical parameters: Temperature, flow velocity, humidity, pressure, CO2 and infrared. Tips on correct measurement and for avoiding measurement errors."
   ]
  },
  {
   "cell_type": "markdown",
   "id": "8819ff2d-7b8f-42f9-bf5c-f593e2a2b6bf",
   "metadata": {},
   "source": [
    "4.\n",
    "\n",
    "i. In the sense of machine learning models, what is underfitting? What is the most common\n",
    "reason for underfitting?\n",
    "\n",
    "ii. What does it mean to overfit? When is it going to happen?\n",
    "\n",
    "iii. In the sense of model fitting, explain the bias-variance trade-off.\n"
   ]
  },
  {
   "cell_type": "markdown",
   "id": "ce22bef5-c9ca-4114-aebc-be6496176403",
   "metadata": {},
   "source": [
    "The following is the short notes on:\n",
    "\n",
    "In the sense of machine learning models, what is underfitting? What is the most common reason for underfitting:\n",
    "\n",
    "Underfitting is a scenario in data science where a data model is unable to capture the relationship between the input and output variables accurately, generating a high error rate on both the training set and unseen data.\n",
    "\n",
    "What does it mean to overfit? When is it going to happen\n",
    "\n",
    "Overfitting happens when a model learns the detail and noise in the training data to the extent that it negatively impacts the performance of the model on new data. This means that the noise or random fluctuations in the training data is picked up and learned as concepts by the model.\n",
    "\n",
    "In the sense of model fitting, explain the bias-variance trade-off\n",
    "\n",
    "The bias is known as the difference between the prediction of the values by the ML model and the correct value. Being high in biasing gives a large error in training as well as testing data. By high bias, the data predicted is in a straight line format, thus not fitting accurately in the data in the data set."
   ]
  },
  {
   "cell_type": "markdown",
   "id": "d74bec17-6c20-4b15-8815-1b69f4490928",
   "metadata": {},
   "source": [
    "5. Is it possible to boost the efficiency of a learning model? If so, please clarify how.\n"
   ]
  },
  {
   "cell_type": "markdown",
   "id": "27ae5a64-b7e7-47dd-8589-e1f5e1f3b438",
   "metadata": {},
   "source": [
    "Buiding a machine learning model is not enough to get the right predictions, a you have to check the accuracy and \n",
    "need to validate the same to ensure get the precise results. And validating the model will improve the preformance \n",
    "of the ML model."
   ]
  },
  {
   "cell_type": "markdown",
   "id": "4f2ef7be-8a17-4a69-b6a4-f5d4e78fc374",
   "metadata": {},
   "source": [
    "6. How would you rate an unsupervised learning model&#39;s success? What are the most common\n",
    "success indicators for an unsupervised learning model?\n"
   ]
  },
  {
   "cell_type": "markdown",
   "id": "fb3bec4d-9de7-4a28-8137-5ad998a47fcd",
   "metadata": {},
   "source": [
    "In case of supervised learning,it is mostly done by measuring the performance metrics such as accuracy,precision, recall,\n",
    "AUC, etc. on the training set and the holdout sets.\n",
    "\n",
    "Few examples of such measures are:\n",
    "    \n",
    "    * Silhouette coefficient.\n",
    "        \n",
    "    * Calisnki-Harabasz coefficient.\n",
    "    \n",
    "    * Dunn index.\n",
    "    \n",
    "    * Xie-Beni score.\n",
    "    \n",
    "    * Hartigan index.\n",
    "    \n",
    "    "
   ]
  },
  {
   "cell_type": "markdown",
   "id": "fdb01f32-6b01-4b68-ae40-6ac05c067b0e",
   "metadata": {},
   "source": [
    "7. Is it possible to use a classification model for numerical data or a regression model for categorical\n",
    "data with a classification model? Explain your answer.\n"
   ]
  },
  {
   "cell_type": "markdown",
   "id": "c36b1e4c-e01c-4f4e-a487-a70270836a83",
   "metadata": {},
   "source": [
    "Categorical data is the data that generally takes a limited number of possible values.Also, the data in the category\n",
    "need not be numerical, it can be textual in nature. All machine learning models are some kind of mathematical model\n",
    "that need numbers to work with.This is one of the primary reasons we need to pre-process the categorical data before \n",
    "we can feed it to machine learning models.\n",
    "\n",
    "It a categorical target variable needs to be encoded for a classification predictive modeling problem,then the \n",
    "LabelEncoder class can be used."
   ]
  },
  {
   "cell_type": "markdown",
   "id": "5dbc5b5c-b808-4d8a-946e-013dd5033b6a",
   "metadata": {},
   "source": [
    "8. Describe the predictive modeling method for numerical values. What distinguishes it from\n",
    "categorical predictive modeling?\n"
   ]
  },
  {
   "cell_type": "markdown",
   "id": "03aa4c15-1666-43b0-953f-b631422df86e",
   "metadata": {},
   "source": [
    "predictive modelling is a statistical technique using machine learning and data mining to predict and forcast likely\n",
    "future outcomes with the aid of historical and existing data. It works by analysing current and historical data and \n",
    "projecting what it learns on a model generated to forcast likely outcomes.\n",
    "\n",
    "Classification is the process of identifying the category or class label of the new observation to which it belongs.\n",
    "Prediction is the process  of identifying the missing or unavailable numerical data for a new observation.That \n",
    "is the key different between classification and prediction."
   ]
  },
  {
   "cell_type": "markdown",
   "id": "d4427073-7ef5-4b10-b350-9d6447a15b76",
   "metadata": {},
   "source": [
    "9. The following data were collected when using a classification model to predict the malignancy of a\n",
    "   group of patients' tumors:\n",
    "\n",
    "        i. Accurate estimates – 15 cancerous, 75 benign\n",
    "        \n",
    "        ii. Wrong predictions – 3 cancerous, 7 benign\n",
    "\n",
    "Determine the model's error rate, Kappa value, sensitivity, precision, and F-measure.\n"
   ]
  },
  {
   "cell_type": "raw",
   "id": "b6f784e4-0b1c-41ec-94ec-ec43a5491671",
   "metadata": {},
   "source": [
    ": The Quick notes on the following topics is below:\n",
    "\n",
    "The process of holding out:\n",
    "The hold-out method for training machine learning model is the process of splitting the data in different splits and using one split for training the model and other splits for validating and testing the models. The hold-out method is used for both model evaluation and model selection.\n",
    "\n",
    "Cross-validation by tenfold:\n",
    "10-fold cross validation would perform the fitting procedure a total of ten times, with each fit being performed on a training set consisting of 90% of the total training set selected at random, with the remaining 10% used as a hold out set for validation.\n",
    "\n",
    "Adjusting the parameters:\n",
    "A fancy name for training: the selection of parameter values, which are optimal in some desired sense (eg. minimize an objective function you choose over a dataset you choose). The parameters are the weights and biases of the network"
   ]
  },
  {
   "cell_type": "code",
   "execution_count": null,
   "id": "5b3ee935-7ddc-4193-b07c-9610182fa469",
   "metadata": {},
   "outputs": [],
   "source": []
  },
  {
   "cell_type": "markdown",
   "id": "2252a666-6dc0-466e-932e-804c81b8bd2e",
   "metadata": {},
   "source": [
    "10. Make quick notes on:\n",
    "    \n",
    "    1. The process of holding out\n",
    "    \n",
    "    2. Cross-validation by tenfold\n",
    "    \n",
    "    3. Adjusting the parameters\n"
   ]
  },
  {
   "cell_type": "markdown",
   "id": "6d541e52-3f79-4162-97e8-7ef2a870c34f",
   "metadata": {},
   "source": [
    "The Quick notes on the following topics is below :\n",
    "\n",
    "    The process of holding out:\n",
    "        The hold-out method for training machine learning model is the process of splitting the data in different  \n",
    "        splits and using one split for training the model and other splits for validating and testing the models. The \n",
    "        hold-out method  is used for both evaluation and model selection.\n",
    "        \n",
    "    Cross-validation by tenfold:\n",
    "        10-fold cross validation would perform the fitting procedure a total of ten times,with each fit being performed \n",
    "        on a training set consisting of 90% of the total training set selected at random, with the remaining 10% used \n",
    "        as a hold out set for validation.\n",
    "    \n",
    "    Adjusting the parameters:\n",
    "        A fancy name for training : the selection of parameter values,which are optimal in some desired sense (eg.\n",
    "        minimize an objective function you choose over a dataset you choose ). The parameters are the weights and               biased of the network \n",
    "        "
   ]
  },
  {
   "cell_type": "markdown",
   "id": "2a205fa9-d347-4e1a-ac3b-85cd38889bc5",
   "metadata": {},
   "source": [
    "11. Define the following terms:\n",
    "    1. Purity vs. Silhouette width\n",
    "    2. Boosting vs. Bagging\n",
    "    3. The eager learner vs. the lazy learner"
   ]
  },
  {
   "cell_type": "markdown",
   "id": "a84c8b4b-f80c-4f7e-96e7-2567eb2e470f",
   "metadata": {},
   "source": [
    "The Following is the short notes on:\n",
    "    \n",
    "    Purity is a measure of the extent to which clusters contain a single class.Its calculated can be thought of as\n",
    "    follows: For each cluster,count the number of data points from the most common class is said cluster.\n",
    "    The silhouette width is also an estimate of the average distance between clusters.Its value is comprised between 1 \n",
    "    and -1 with a value of 1 indicating a very good cluster.\n",
    "Boosting vs.Bagging :\n",
    "    \n",
    "    Bagging is a way to decrease the variance in the prediction by generating additional data for trained from dataset\n",
    "    using combination with repetitions to produce multi-sets of the original data.\n",
    "    \n",
    "    Boosting is an interative technique which adjust the weight of an observation based on the last classification.\n",
    "    \n",
    "    The eager learner delays abstracting from the data until it is asked to make a prediction.\n",
    "    \n",
    "    A lazy learner delays abstracting from the data until it is asked to make prediction.\n",
    "    While an eager learner  abstracts away  from the data during training and use this abstraction  to make predictions \n",
    "    rather than directly compare queries with instances in the dataset."
   ]
  },
  {
   "cell_type": "code",
   "execution_count": null,
   "id": "1b9bfa84-19d7-41cf-a647-631753c91240",
   "metadata": {},
   "outputs": [],
   "source": []
  },
  {
   "cell_type": "code",
   "execution_count": null,
   "id": "0c2de4b2-9e51-4812-ba4e-331afa6020a2",
   "metadata": {},
   "outputs": [],
   "source": []
  },
  {
   "cell_type": "code",
   "execution_count": null,
   "id": "9805a3e1-782c-4bb3-ace0-02a647fcbfa0",
   "metadata": {},
   "outputs": [],
   "source": []
  },
  {
   "cell_type": "code",
   "execution_count": null,
   "id": "643cd8e7-a6d5-43e5-aef0-580f87a56759",
   "metadata": {},
   "outputs": [],
   "source": []
  }
 ],
 "metadata": {
  "kernelspec": {
   "display_name": "Python 3 (ipykernel)",
   "language": "python",
   "name": "python3"
  },
  "language_info": {
   "codemirror_mode": {
    "name": "ipython",
    "version": 3
   },
   "file_extension": ".py",
   "mimetype": "text/x-python",
   "name": "python",
   "nbconvert_exporter": "python",
   "pygments_lexer": "ipython3",
   "version": "3.9.12"
  }
 },
 "nbformat": 4,
 "nbformat_minor": 5
}
