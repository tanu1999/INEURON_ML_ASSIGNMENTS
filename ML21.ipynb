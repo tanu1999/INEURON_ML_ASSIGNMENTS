{
 "cells": [
  {
   "cell_type": "markdown",
   "id": "bbdcd8c9-b61d-457b-8448-a7b3c9086b8b",
   "metadata": {},
   "source": [
    "1. What is the estimated depth of a Decision Tree trained (unrestricted) on a one million instance\n",
    "training set?\n"
   ]
  },
  {
   "cell_type": "markdown",
   "id": "706e598a-7b34-4c62-a7cd-0503b45d0722",
   "metadata": {},
   "source": [
    "The estimated depth of a decision tree trained on a one million instance training set can vary widely depending on several factors such as the complexity of the problem, the number of features, the quality and distribution of the data, and the hyperparameters used for training. \n",
    "\n",
    "In general, an unrestricted decision tree trained on a large dataset tends to overfit and can become very deep, capturing all the noise in the data and reducing its ability to generalize to new, unseen data. However, some regularizing techniques such as pruning, limiting the depth or complexity of the tree, or using ensemble methods can help to prevent overfitting and improve the performance and interpretability of the model.\n",
    "\n",
    "As a rough estimate, a decision tree trained on a one million instance training set can have a depth of hundreds to thousands of nodes or levels, depending on the factors mentioned above. However, this is only a very rough estimate, and the actual depth of the tree can vary widely depending on the specific details of the problem and the data."
   ]
  },
  {
   "cell_type": "markdown",
   "id": "e8bb755d-53e2-44a9-8826-db7169fbfa03",
   "metadata": {},
   "source": [
    "2. Is the Gini impurity of a node usually lower or higher than that of its parent? Is it always\n",
    "lower/greater, or is it usually lower/greater?\n"
   ]
  },
  {
   "cell_type": "markdown",
   "id": "f99d484a-4dcc-4c6b-a7df-aee942e8cc8d",
   "metadata": {},
   "source": [
    "In a decision tree, the Gini impurity of a node is usually lower than or equal to that of its parent. This is because the split at each node is chosen to minimize the impurity of the resulting child nodes. The Gini impurity measures the degree of impurity or uncertainty of a node based on the class distribution of the data. A node with a lower Gini impurity indicates that it has a more homogeneous class distribution, which is desirable in a decision tree because it leads to better classification performance and a simpler, more interpretable tree.\n",
    "\n",
    "However, it is not always the case that the Gini impurity of a node is lower than or equal to that of its parent. In some cases, a split can result in child nodes with a higher Gini impurity than the parent, especially when the split is based on noisy or irrelevant features. In such cases, pruning or other regularization techniques may be used to avoid overfitting and improve the generalization performance of the tree."
   ]
  },
  {
   "cell_type": "code",
   "execution_count": null,
   "id": "8f4c9917-2b0e-4368-993b-d4ece2379292",
   "metadata": {},
   "outputs": [],
   "source": [
    "3. Explain if its a good idea to reduce max depth if a Decision Tree is overfitting the training set?\n",
    "\n"
   ]
  },
  {
   "cell_type": "markdown",
   "id": "fc93ccf9-e4ff-4d51-97df-181c7e57f104",
   "metadata": {},
   "source": [
    "Reducing the maximum depth of a decision tree can be an effective way to reduce overfitting of the training set. A decision tree with a large maximum depth can capture many details and nuances of the training data, including noise and outliers, which can lead to overfitting and poor generalization performance on new, unseen data. By reducing the maximum depth of the tree, we can limit its capacity to capture such details and promote more generalizable and interpretable models.\n",
    "\n",
    "Reducing the maximum depth can also help to improve the computational efficiency and scalability of the model, as fewer nodes and calculations are required to make predictions.\n",
    "\n",
    "However, reducing the maximum depth too much can also lead to underfitting, where the model becomes too simple and fails to capture the underlying patterns and structure of the data. Therefore, it is important to find the right balance between overfitting and underfitting by tuning the hyperparameters of the decision tree, such as the maximum depth, and evaluating the performance of the model on a validation set or through cross-validation.\n",
    "\n",
    "In summary, reducing the maximum depth of a decision tree can be a good idea if the model is overfitting the training set, but it should be done with care and in conjunction with other regularization techniques to prevent underfitting and improve generalization performance."
   ]
  },
  {
   "cell_type": "markdown",
   "id": "e39e3708-6d61-4b6c-bbd0-931af035d7b2",
   "metadata": {},
   "source": [
    "4. Explain if its a good idea to try scaling the input features if a Decision Tree underfits the training\n",
    "set?\n"
   ]
  },
  {
   "cell_type": "markdown",
   "id": "d9afe94d-5e9b-44f4-872d-09d9f4f1502f",
   "metadata": {},
   "source": [
    "Scaling the input features of a decision tree is unlikely to improve its performance if it is underfitting the training set. Unlike some other machine learning algorithms such as neural networks or support vector machines, decision trees are not sensitive to the scale or distribution of the input features. This is because the split points in a decision tree are based on the relative ordering of the features rather than their absolute values.\n",
    "\n",
    "If a decision tree is underfitting the training set, it is more likely due to a lack of complexity or expressiveness in the model rather than a scaling issue. In this case, increasing the complexity of the tree, for example by increasing the maximum depth or allowing more features per split, can help to capture more of the underlying patterns and structure of the data and improve the performance of the model.\n",
    "\n",
    "However, scaling the input features may still be beneficial in certain cases, such as when the features have vastly different scales or units, or when using some regularization techniques such as L1 or L2 regularization. In these cases, scaling the features can help to ensure that each feature is given equal weight in the model and prevent some features from dominating others.\n",
    "\n",
    "In summary, while scaling the input features of a decision tree is unlikely to improve its performance if it is underfitting the training set, it may still be beneficial in some cases for regularization or to ensure equal weighting of the features. However, increasing the complexity of the tree is generally a more effective approach to address underfitting."
   ]
  },
  {
   "cell_type": "markdown",
   "id": "74745542-de88-4268-b2b5-97a13eca4a3f",
   "metadata": {},
   "source": [
    "\n",
    "5. How much time will it take to train another Decision Tree on a training set of 10 million instances\n",
    "if it takes an hour to train a Decision Tree on a training set with 1 million instances?\n"
   ]
  },
  {
   "cell_type": "markdown",
   "id": "407823ff-3d4c-460a-b2ae-769dafef8a4f",
   "metadata": {},
   "source": [
    "The time it takes to train a decision tree on a training set depends on several factors such as the complexity of the problem, the number of features, the quality and distribution of the data, and the hyperparameters used for training. Therefore, it is difficult to estimate the exact time it will take to train a decision tree on a training set of 10 million instances without additional information about the specific problem and the hardware and software used for training.\n",
    "\n",
    "However, as a rough estimate, we can assume that the time it takes to train a decision tree on a training set is roughly proportional to the size of the training set. Therefore, if it takes one hour to train a decision tree on a training set with 1 million instances, it may take approximately 10 hours to train another decision tree on a training set with 10 million instances, assuming that the problem and the hardware and software used for training are similar.\n",
    "\n",
    "It is worth noting that this is only a very rough estimate, and the actual time it takes to train the decision tree can vary widely depending on the specific details of the problem and the hardware and software used for training. Additionally, there may be other techniques such as parallelization or using a more efficient algorithm that can be used to speed up the training process.\n",
    "\n",
    "\n",
    "\n",
    "\n",
    "\n"
   ]
  },
  {
   "cell_type": "markdown",
   "id": "f1eeda17-7d15-4ab5-b9c4-8e74fece04e3",
   "metadata": {},
   "source": [
    "\n",
    "6. Will setting presort=True speed up training if your training set has 100,000 instances?\n"
   ]
  },
  {
   "cell_type": "markdown",
   "id": "f4de76c2-5fa3-4352-9916-30f11c54a51c",
   "metadata": {},
   "source": [
    "Setting `presort=True` in the scikit-learn DecisionTreeClassifier or DecisionTreeRegressor can actually slow down the training process for a training set with 100,000 instances.\n",
    "\n",
    "The `presort` parameter is used to indicate whether the algorithm should presort the data before building the tree to speed up the computation of the best split. When `presort=True`, the algorithm will sort the data for each node before finding the best split. This can be beneficial for smaller datasets where the cost of sorting is relatively low compared to the cost of finding the best split. However, for larger datasets, the cost of sorting can become prohibitively high and may outweigh the benefits of faster split computation.\n",
    "\n",
    "For a training set with 100,000 instances, setting `presort=True` is unlikely to speed up the training process and may actually slow it down. This is because the overhead of sorting the data for each node can become very large for larger datasets. It is generally recommended to set `presort=False` for large datasets to avoid the overhead of sorting.\n",
    "\n",
    "In summary, setting `presort=True` is not recommended for training sets with 100,000 instances and may actually slow down the training process. It is generally more efficient to set `presort=False` for larger datasets."
   ]
  },
  {
   "cell_type": "code",
   "execution_count": null,
   "id": "45f8bf5d-cd22-4304-ac33-d574bdd7fc54",
   "metadata": {},
   "outputs": [],
   "source": [
    "\n",
    "7. Follow these steps to train and fine-tune a Decision Tree for the moons dataset:\n",
    "\n",
    "a. To build a moons dataset, use make moons(n samples=10000, noise=0.4).\n",
    "\n",
    "b. Divide the dataset into a training and a test collection with train test split().\n",
    "\n",
    "c. To find good hyperparameters values for a DecisionTreeClassifier, use grid search with cross-\n",
    "validation (with the GridSearchCV class). Try different values for max leaf nodes.\n",
    "\n",
    "d. Use these hyperparameters to train the model on the entire training set, and then assess its\n",
    "output on the test set. You can achieve an accuracy of 85 to 87 percent.\n",
    "\n"
   ]
  },
  {
   "cell_type": "code",
   "execution_count": 4,
   "id": "acbedceb-4999-47e1-8aed-b83779937d3a",
   "metadata": {},
   "outputs": [
    {
     "name": "stdout",
     "output_type": "stream",
     "text": [
      "Best hyperparameters:  {'max_leaf_nodes': 10}\n",
      "Accuracy on the test set:  0.8665\n"
     ]
    }
   ],
   "source": [
    "from sklearn.datasets import make_moons\n",
    "from sklearn.model_selection import train_test_split, GridSearchCV\n",
    "from sklearn.tree import DecisionTreeClassifier\n",
    "\n",
    "# Step 1: Build a moons dataset\n",
    "X, y = make_moons(n_samples=10000, noise=0.4)\n",
    "\n",
    "# Step 2: Divide the dataset into a training and a test collection\n",
    "X_train, X_test, y_train, y_test = train_test_split(X, y, test_size=0.2, random_state=42)\n",
    "\n",
    "# Step 3: Use grid search with cross-validation to find good hyperparameters values\n",
    "param_grid = {'max_leaf_nodes': [None, 10, 100, 500]}\n",
    "dtc = DecisionTreeClassifier()\n",
    "grid_search = GridSearchCV(dtc, param_grid=param_grid, cv=5)\n",
    "grid_search.fit(X_train, y_train)\n",
    "print(\"Best hyperparameters: \", grid_search.best_params_)\n",
    "\n",
    "# Step 4: Train the model on the entire training set with the best hyperparameters\n",
    "best_dtc = grid_search.best_estimator_\n",
    "best_dtc.fit(X_train, y_train)\n",
    "\n",
    "# Step 5: Evaluate the model on the test set\n",
    "accuracy = best_dtc.score(X_test, y_test)\n",
    "print(\"Accuracy on the test set: \", accuracy)\n"
   ]
  },
  {
   "cell_type": "code",
   "execution_count": null,
   "id": "65da7a1c-8782-4251-95d7-a67ffc7bc880",
   "metadata": {},
   "outputs": [],
   "source": [
    "8. Follow these steps to grow a forest:\n",
    "\n",
    "a. Using the same method as before, create 1,000 subsets of the training set, each containing\n",
    "100 instances chosen at random. You can do this with Scikit-ShuffleSplit Learn&#39;s class.\n",
    "\n",
    "b. Using the best hyperparameter values found in the previous exercise, train one Decision\n",
    "Tree on each subset. On the test collection, evaluate these 1,000 Decision Trees. These Decision\n",
    "\n",
    "Trees would likely perform worse than the first Decision Tree, achieving only around 80% accuracy,\n",
    "since they were trained on smaller sets.\n",
    "\n",
    "c. Now the magic begins. Create 1,000 Decision Tree predictions for each test set case, and\n",
    "keep only the most common prediction (you can do this with SciPy&#39;s mode() function). Over the test\n",
    "collection, this method gives you majority-vote predictions.\n",
    "\n",
    "d. On the test range, evaluate these predictions: you should achieve a slightly higher accuracy\n",
    "than the first model (approx 0.5 to 1.5 percent higher). You&#39;ve successfully learned a Random Forest\n",
    "classifier!"
   ]
  },
  {
   "cell_type": "code",
   "execution_count": null,
   "id": "b7ea8e81-52c6-461a-acd7-b856e30d271e",
   "metadata": {},
   "outputs": [],
   "source": []
  }
 ],
 "metadata": {
  "kernelspec": {
   "display_name": "Python 3 (ipykernel)",
   "language": "python",
   "name": "python3"
  },
  "language_info": {
   "codemirror_mode": {
    "name": "ipython",
    "version": 3
   },
   "file_extension": ".py",
   "mimetype": "text/x-python",
   "name": "python",
   "nbconvert_exporter": "python",
   "pygments_lexer": "ipython3",
   "version": "3.10.6"
  }
 },
 "nbformat": 4,
 "nbformat_minor": 5
}
