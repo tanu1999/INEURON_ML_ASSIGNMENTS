{
 "cells": [
  {
   "cell_type": "markdown",
   "id": "37b9d28c-d8fe-4d3b-b579-b2051913e53a",
   "metadata": {},
   "source": [
    "1. What is the difference between supervised and unsupervised learning? Give some examples to illustrate your point ?\n"
   ]
  },
  {
   "cell_type": "markdown",
   "id": "6376c092-749b-4aa6-955f-abd005a4cf87",
   "metadata": {},
   "source": [
    "Ans: The main distinction between the two approaches is the use of labeled datasets. To put it simply, supervised learning uses labeled input and output data, while an unsupervised learning algorithm does not. Unsupervised learning models, in contrast, work on their own to discover the inherent structure of unlabeled data.\n",
    "\n",
    "In Supervised learning, you train the machine using data which is well “labeled.” Unsupervised learning is a machine learning technique, where you do not need to supervise the model. For example, Baby can identify other dogs based on past supervised learning.\n",
    "\n"
   ]
  },
  {
   "cell_type": "markdown",
   "id": "b59e5440-8ae0-4312-9e55-c335a9cff3ad",
   "metadata": {},
   "source": [
    "2. Mention a few unsupervised learning applications ?\n"
   ]
  },
  {
   "cell_type": "markdown",
   "id": "dcb4c5dc-ab6c-4097-94e2-c21f1c285b2f",
   "metadata": {},
   "source": [
    "Ans: The main applications of unsupervised learning include clustering, visualization, dimensionality reduction, finding association rules, and anomaly detection.\n",
    "\n"
   ]
  },
  {
   "cell_type": "markdown",
   "id": "1da8399b-488f-4c5e-9b1d-9a7934786be7",
   "metadata": {},
   "source": [
    "3. What are the three main types of clustering methods? Briefly describe the characteristics of each ?\n"
   ]
  },
  {
   "cell_type": "markdown",
   "id": "cd048a88-83f6-4022-9d54-807fd13c50fc",
   "metadata": {},
   "source": [
    "Ans: The various types of clustering are:\n",
    "\n",
    "Connectivity-based Clustering (Hierarchical clustering): Hierarchical Clustering is a method of unsupervised machine learning clustering where it begins with a pre-defined top to bottom hierarchy of clusters. It then proceeds to perform a decomposition of the data objects based on this hierarchy, hence obtaining the clusters. This method follows two approaches based on the direction of progress, i.e., whether it is the top-down or bottom-up flow of creating clusters.\n",
    "\n",
    "Centroids-based Clustering (Partitioning methods): Centroid based clustering is considered as one of the most simplest clustering algorithms, yet the most effective way of creating clusters and assigning data points to it. The intuition behind centroid based clustering is that a cluster is characterized and represented by a central vector and data points that are in close proximity to these vectors are assigned to the respective clusters.\n",
    "\n",
    "Density-based Clustering (Model-based methods): If one looks into the previous two methods that we discussed, one would observe that both hierarchical and centroid based algorithms are dependent on a distance (similarity/proximity) metric. The very definition of a cluster is based on this metric. Density-based clustering methods take density into consideration instead of distances. Clusters are considered as the densest region in a data space, which is separated by regions of lower object density and it is defined as a maximal-set of connected points.\n",
    "\n",
    "Distribution-based Clustering: Until now, the clustering techniques as we know are based around either proximity (similarity/distance) or composition (density). There is a family of clustering algorithms that take a totally different metric into consideration – probability. Distribution-based clustering creates and groups data points based on their likely hood of belonging to the same probability distribution (Gaussian, Binomial etc.) in the data.\n",
    "\n",
    "Fuzzy Clustering: The general idea about clustering revolves around assigning data points to mutually exclusive clusters, meaning, a data point always resides uniquely inside a cluster and it cannot belong to more than one cluster. Fuzzy clustering methods change this paradigm by assigning a data-point to multiple clusters with a quantified degree of belongingness metric. The data-points that are in proximity to the center of a cluster, may also belong in the cluster that is at a higher degree than points in the edge of a cluster. The possibility of which an element belongs to a given cluster is measured by membership coefficient that vary from 0 to 1."
   ]
  },
  {
   "cell_type": "markdown",
   "id": "24f46314-f63d-4c3d-92ed-c12be2d27449",
   "metadata": {},
   "source": [
    "4. Explain how the k-means algorithm determines the consistency of clustering ?\n"
   ]
  },
  {
   "cell_type": "markdown",
   "id": "89881382-d072-48cb-b815-6ae2ecc56dfc",
   "metadata": {},
   "source": [
    "Ans: Calculate the Within-Cluster-Sum of Squared Errors (WSS) for different values of k, and choose the k for which WSS becomes first starts to diminish. In the plot of WSS-versus-k, this is visible as an elbow. Within-Cluster-Sum of Squared Errors sounds a bit complex.\n",
    "\n"
   ]
  },
  {
   "cell_type": "markdown",
   "id": "ded22f90-00c4-4293-bc46-69068e4a2f4e",
   "metadata": {},
   "source": [
    "5. With a simple illustration, explain the key difference between the k-means and k-medoids algorithms ?\n"
   ]
  },
  {
   "cell_type": "markdown",
   "id": "115196fc-6c4f-4e41-98a9-dd16d881ce73",
   "metadata": {},
   "source": [
    "Ans: K-means attempts to minimize the total squared error, while k-medoids minimizes the sum of dissimilarities between points labeled to be in a cluster and a point designated as the center of that cluster. In contrast to the k -means algorithm, k -medoids chooses datapoints as centers ( medoids or exemplars).\n",
    "\n"
   ]
  },
  {
   "cell_type": "markdown",
   "id": "e3f36e43-8064-4ff5-beaa-2f0d636b978b",
   "metadata": {},
   "source": [
    "6. What is a dendrogram, and how does it work? Explain how to do it ?\n"
   ]
  },
  {
   "cell_type": "markdown",
   "id": "652d5a6c-e6d8-4edc-8bd1-cd27ae2f1576",
   "metadata": {},
   "source": [
    "Ans: A dendrogram is a diagram that shows the attribute distances between each pair of sequentially merged classes After each merging, the distances between all pairs of classes are updated. The distances at which the signatures of classes are merged are used to construct a dendrogram.\n",
    "\n"
   ]
  },
  {
   "cell_type": "markdown",
   "id": "78fcf5f4-120e-47d6-a7a8-c246531a08a6",
   "metadata": {},
   "source": [
    "7. What exactly is SSE? What role does it play in the k-means algorithm ?\n"
   ]
  },
  {
   "cell_type": "markdown",
   "id": "ae480b85-afe7-4bcd-a70d-b8205bc6baee",
   "metadata": {},
   "source": [
    "Ans: I am going to refer to it as SSE, which stands for Sum of Squared Errors. The regression line is the line made using the function we defined above. To get the SSE we calculate the distance for each of the data points from the regression line then square the it, then we add to the sum.\n",
    "\n",
    "The SSE is defined as the sum of the squared Euclidean distances of each point to its closest centroid. Since this is a measure of error, the objective of k-means is to try to minimize this value. The purpose of this figure is to show that the initialization of the centroids is an important step.\n",
    "\n"
   ]
  },
  {
   "cell_type": "markdown",
   "id": "5cb6c8e9-ecac-4739-b985-9eb9cc7fb210",
   "metadata": {},
   "source": [
    "8. With a step-by-step algorithm, explain the k-means procedure ?\n"
   ]
  },
  {
   "cell_type": "markdown",
   "id": "53d3ac24-3bc5-4e0f-b699-60b8e4dbcb18",
   "metadata": {},
   "source": [
    "Ans: k-means is one of the simplest unsupervised learning algorithms that solve the well known clustering problem. The procedure follows a simple and easy way to classify a given data set through a certain number of clusters (assume k clusters) fixed apriori. The main idea is to define k centers, one for each cluster.\n",
    "\n",
    "Step 1: Choose the number of clusters k.\n",
    "\n",
    "Step 2: Select k random points from the data as centroids.\n",
    "\n",
    "Step 3: Assign all the points to the closest cluster centroid.\n",
    "\n",
    "Step 4: Recompute the centroids of newly formed clusters.\n",
    "\n",
    "Step 5: Repeat steps 3 and 4.\n"
   ]
  },
  {
   "cell_type": "markdown",
   "id": "ed55b9a9-43e0-4521-9a29-19ac6d6e827d",
   "metadata": {},
   "source": [
    "9. In the sense of hierarchical clustering, define the terms single link and complete  link ?\n"
   ]
  },
  {
   "cell_type": "markdown",
   "id": "d7575424-95ac-4659-9d7b-f3a77632e5e3",
   "metadata": {},
   "source": [
    "Ans: In single-link (or single linkage) hierarchical clustering, we merge in each step the two clusters whose two closest members have the smallest distance (or: the two clusters with the smallest minimum pairwise distance). Complete-link clustering can also be described using the concept of clique."
   ]
  },
  {
   "cell_type": "markdown",
   "id": "3842fc04-d8d9-492b-836c-8b5998abafd4",
   "metadata": {},
   "source": [
    "10. How does the apriori concept aid in the reduction of measurement overhead in a business basket analysis? Give an example to demonstrate your point ?\n"
   ]
  },
  {
   "cell_type": "markdown",
   "id": "c34011da-f63b-4a80-b435-352ffa2187e3",
   "metadata": {},
   "source": [
    "Ans: Apriori algorithm assumes that any subset of a frequent itemset must be frequent. Its the algorithm behind Market Basket Analysis. So, according to the principle of Apriori, if {Grapes, Apple, Mango} is frequent, then {Grapes,Mango} must also be frequent. Here is a dataset consisting of six transactions.\""
   ]
  },
  {
   "cell_type": "code",
   "execution_count": null,
   "id": "38b7a012-e876-40c2-a1db-da519fdea82d",
   "metadata": {},
   "outputs": [],
   "source": []
  },
  {
   "cell_type": "code",
   "execution_count": null,
   "id": "29c75991-eb63-4376-a983-8c370c1eda98",
   "metadata": {},
   "outputs": [],
   "source": []
  },
  {
   "cell_type": "code",
   "execution_count": null,
   "id": "2303abc2-1ab9-468d-88c5-0028a08efe77",
   "metadata": {},
   "outputs": [],
   "source": []
  },
  {
   "cell_type": "code",
   "execution_count": null,
   "id": "b413a231-6a97-4e06-a0a4-e863a5b8857d",
   "metadata": {},
   "outputs": [],
   "source": []
  },
  {
   "cell_type": "code",
   "execution_count": null,
   "id": "a2ea69fc-5586-49a8-a1fd-cbd1fce89459",
   "metadata": {},
   "outputs": [],
   "source": []
  },
  {
   "cell_type": "code",
   "execution_count": null,
   "id": "e571ebcc-5191-4beb-8b45-e0b680305bbb",
   "metadata": {},
   "outputs": [],
   "source": []
  },
  {
   "cell_type": "code",
   "execution_count": null,
   "id": "9882f7b4-86d2-427b-9bc6-27fe6e7bd92f",
   "metadata": {},
   "outputs": [],
   "source": []
  },
  {
   "cell_type": "code",
   "execution_count": null,
   "id": "c0fc8720-0306-4347-9b85-f594021bbc88",
   "metadata": {},
   "outputs": [],
   "source": []
  }
 ],
 "metadata": {
  "kernelspec": {
   "display_name": "Python 3 (ipykernel)",
   "language": "python",
   "name": "python3"
  },
  "language_info": {
   "codemirror_mode": {
    "name": "ipython",
    "version": 3
   },
   "file_extension": ".py",
   "mimetype": "text/x-python",
   "name": "python",
   "nbconvert_exporter": "python",
   "pygments_lexer": "ipython3",
   "version": "3.9.12"
  }
 },
 "nbformat": 4,
 "nbformat_minor": 5
}
