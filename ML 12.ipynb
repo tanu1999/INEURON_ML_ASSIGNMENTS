{
 "cells": [
  {
   "cell_type": "markdown",
   "id": "d2add34d-8a35-404f-a900-4050415ec00e",
   "metadata": {},
   "source": [
    "1. What is prior probability? Give an example.\n"
   ]
  },
  {
   "cell_type": "markdown",
   "id": "e29323fd-9a6f-438c-93b1-915f118f37a5",
   "metadata": {},
   "source": [
    "Prior probability shows the likelihood of an outcome in a given dataset.For example, in the mortgage case,P(Y) is \n",
    "the default rate on a home mortgage,which is 2%. P(Y|X) is called the conditional probability, which provides \n",
    "the probability of an outcome given the evidence, that is , when the value of X is known."
   ]
  },
  {
   "cell_type": "markdown",
   "id": "2a1e4c88-1268-4e9b-84cf-0e41a578970d",
   "metadata": {},
   "source": [
    "2. What is posterior probability? Give an example.\n"
   ]
  },
  {
   "cell_type": "markdown",
   "id": "57267137-715c-4418-9cd7-44f1f2422aa9",
   "metadata": {},
   "source": [
    "Posterior probability is a revised probability that takes into account new available information. For example,\n",
    "let there be two urns,urn a having 5 balck balls and 10 red balls and urn B having 10 black balls and  5 red \n",
    "balls."
   ]
  },
  {
   "cell_type": "markdown",
   "id": "b8677824-bd3c-4c10-bf0b-4df399a7126f",
   "metadata": {},
   "source": [
    "3. What is likelihood probability? Give an example.\n",
    "\n"
   ]
  },
  {
   "cell_type": "markdown",
   "id": "bcb7173c-e535-4177-a07f-bdd0a43e41c9",
   "metadata": {},
   "source": [
    "Likelihood Function in Machine Learning and Data science is the joint probability distribution(jdp) of the \n",
    "dataset given as a function of the parameter.Think of it as the probability of obtaining the observed data given \n",
    "the parameter values."
   ]
  },
  {
   "cell_type": "markdown",
   "id": "dac97ee8-7173-4f94-b1ab-36f6b8ce02f8",
   "metadata": {},
   "source": [
    "4. What is Naïve Bayes classifier? Why is it named so?\n",
    "\n"
   ]
  },
  {
   "cell_type": "markdown",
   "id": "656766b1-4ee8-4d45-8942-6fae821830d6",
   "metadata": {},
   "source": [
    "Naive Bayes is a simple and powerful algorithum for predictive modeling .Naive bayes is called naive because it \n",
    "assumes that each input variable is independent .This is a strong assumption and unrealistic for real data however \n",
    "the techique is very effective on a large range og complex problems."
   ]
  },
  {
   "cell_type": "markdown",
   "id": "a0788d0e-7db4-479f-b472-431e264889ac",
   "metadata": {},
   "source": [
    "5. What is optimal Bayes classifier?\n",
    "\n"
   ]
  },
  {
   "cell_type": "markdown",
   "id": "fee9bcb0-e026-4a0b-9ece-68d83a5c8a14",
   "metadata": {},
   "source": [
    "The Bayes Optimal Classifier is a probabilistic model that makes the most probable prediction for a new example.\n",
    "Bayes Optimal classifier is a probabilistic model that finds the most probable prediction using the training data\n",
    "and space of hypotheisis to make a prediction for a new data instance."
   ]
  },
  {
   "cell_type": "markdown",
   "id": "ddb9e8cb-bb14-4435-9531-168a67b15cf2",
   "metadata": {},
   "source": [
    "6. Write any two features of Bayesian learning methods.\n",
    "\n"
   ]
  },
  {
   "cell_type": "markdown",
   "id": "9ccda041-cfed-4658-a123-3792d9840373",
   "metadata": {},
   "source": [
    "A probabilty distribution over observed data for each posssible hypotheisis.New instances can be classified by \n",
    "combining the predictions of multiple hypotheses, weighted by their probabilities."
   ]
  },
  {
   "cell_type": "markdown",
   "id": "19db8067-189d-422c-934b-0c61fe1d7f32",
   "metadata": {},
   "source": [
    "7. Define the concept of consistent learners.\n",
    "\n"
   ]
  },
  {
   "cell_type": "markdown",
   "id": "6aab989f-f403-4f37-8bc9-5eb1a9c9f4f2",
   "metadata": {},
   "source": [
    "Consistent Learners: A learner  L using a hypothesis H and trained data D is said to be a consistent learner if \n",
    "it always outputs a hypothesis with zero erro on D whenever H contains such a hypothesis * By definition , a \n",
    "consistent learner  must produce a hypotheisis in the version space for H given D.\n"
   ]
  },
  {
   "cell_type": "markdown",
   "id": "819277c1-97f3-436e-8931-7e282ddfb3e6",
   "metadata": {},
   "source": [
    "8. Write any two strengths of Bayes classifier.\n",
    "\n"
   ]
  },
  {
   "cell_type": "markdown",
   "id": "1502e2ea-a387-4da0-84a9-0dd5920d7445",
   "metadata": {},
   "source": [
    "This algorithium works quickly and can save a lot of time.Naive Bayes is suitable for solving multi-class\n",
    "prediction problems.If its assumption of the independence of features holds true,it can perform  better than other models and requires much less trained data."
   ]
  },
  {
   "cell_type": "markdown",
   "id": "7c72b3c1-e79f-4927-b735-04e7e13e1866",
   "metadata": {},
   "source": [
    "9. Write any two weaknesses of Bayes classifier.\n",
    "\n"
   ]
  },
  {
   "cell_type": "markdown",
   "id": "2a93f4ec-4f62-4c9f-9deb-6b5ed6a5b729",
   "metadata": {},
   "source": [
    "The greatest weakness of the naive Bayes classifier is that it relies on an often-faulty assumption of equally \n",
    "important and independent features which results in biased posterior probabilities."
   ]
  },
  {
   "cell_type": "markdown",
   "id": "76143064-3b34-4d54-bd70-49e894e6f811",
   "metadata": {},
   "source": [
    "10. Explain how Naïve Bayes classifier is used for:\n",
    "    \n",
    "\n",
    "    1. Text classification\n",
    "\n",
    "    2. Spam filtering\n",
    "\n",
    "    3. Market sentiment analysis"
   ]
  },
  {
   "cell_type": "markdown",
   "id": "370c6d5a-a419-436c-9cb4-b658e827c626",
   "metadata": {},
   "source": [
    "Navie Bayes Classifier is used for:\n",
    "    \n",
    "Text classification:\n",
    "    \n",
    "    The Naive Bayes classifier is a simple classifier that classifier based on probabilities of events.It is the \n",
    "    applied commonly to text classification.with the training set,We can train a Naive Bayes classifier which we \n",
    "    can use to automaticall categorize a new sentance.\n",
    "\n",
    "Spam Filtering :\n",
    "    \n",
    "    Naive Bayes classifiers work by correlation the use of tokens (typically words, or sometimes other things),\n",
    "    with spam and non-spam e-mails and then using Bayes' theorem to calculate a probability that an email \n",
    "    is or is not spam.It is one of the oldest ways of doing spam filtering, with roots in the 1990s.\n",
    "\n",
    "Market sentiment analysis:\n",
    "    \n",
    "    Market sentiments analysis is the field dedicated to extracting subjective emotions and felling from text.\n",
    "    One common use of sentiment analysis is to figure out if a  text expresses negative or positive feelings.\n",
    "    Naive bayes is a popular algorithum for classifying text.\n",
    "    \n",
    "    \n",
    "    \n",
    "    \n",
    "    \n",
    "    "
   ]
  },
  {
   "cell_type": "code",
   "execution_count": null,
   "id": "b80387fa-49b8-443b-aa65-dda29440ea4d",
   "metadata": {},
   "outputs": [],
   "source": []
  }
 ],
 "metadata": {
  "kernelspec": {
   "display_name": "Python 3 (ipykernel)",
   "language": "python",
   "name": "python3"
  },
  "language_info": {
   "codemirror_mode": {
    "name": "ipython",
    "version": 3
   },
   "file_extension": ".py",
   "mimetype": "text/x-python",
   "name": "python",
   "nbconvert_exporter": "python",
   "pygments_lexer": "ipython3",
   "version": "3.9.12"
  }
 },
 "nbformat": 4,
 "nbformat_minor": 5
}
