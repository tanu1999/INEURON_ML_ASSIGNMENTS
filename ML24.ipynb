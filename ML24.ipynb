{
 "cells": [
  {
   "cell_type": "markdown",
   "id": "520c23ce-3c04-4a20-8e9d-e7cebd192ab9",
   "metadata": {},
   "source": [
    "1. What is your definition of clustering? What are a few clustering algorithms you might think of ?\n"
   ]
  },
  {
   "cell_type": "markdown",
   "id": "72e61e88-47e6-4e5a-9c66-88b3b231b4c2",
   "metadata": {},
   "source": [
    "Clustering is the task of dividing the population or data points into a number of groups such that data points in \n",
    "the same groups are more similar to other data points in the same group and dissimilar to the data points in other\n",
    "groups."
   ]
  },
  {
   "cell_type": "markdown",
   "id": "684be184-3022-4a4b-87f3-0703c9dfd00b",
   "metadata": {},
   "source": [
    "2. What are some of the most popular clustering algorithm applications ?\n"
   ]
  },
  {
   "cell_type": "markdown",
   "id": "1db96ad7-9144-4071-922f-828da6c3fa98",
   "metadata": {},
   "source": [
    "K-means clustering is the most commonly used clustering algorithum .It's centroid-based algorithum and the \n",
    "simplest unsupervised learning algorithum.This algorithum tries to minimize the variance of data points within a\n",
    "cluster. It's also how most people are introduced to unsupervised machine learning."
   ]
  },
  {
   "cell_type": "markdown",
   "id": "36d4d75c-23f6-469f-974b-946b1a11f2c2",
   "metadata": {},
   "source": [
    "3. When using K-Means, describe two strategies for selecting the appropriate number of clusters ?\n"
   ]
  },
  {
   "cell_type": "markdown",
   "id": "5ff58cd6-310f-448a-ac5a-e48341b85638",
   "metadata": {},
   "source": [
    "K-means clustering algorithum can be singificantly improved by using a better inintialization technique, and by\n",
    "repeating (re-starting) the algorithum.When the data has overlaping clusters,k-means can improve the results of the \n",
    "initialization technique."
   ]
  },
  {
   "cell_type": "markdown",
   "id": "790bd5af-2ad5-4518-bd0b-728df8427fe8",
   "metadata": {},
   "source": [
    "4. What is mark propagation and how does it work? Why would you do it, and how would you do it ?\n"
   ]
  },
  {
   "cell_type": "markdown",
   "id": "151ea517-2c76-4644-9220-a5182fcfb6f4",
   "metadata": {},
   "source": [
    "Backpropagation (backward propagation) is an important mathematical tool for improving the accuracy of predictions\n",
    "in data mining and machine learning.Essentially, backpropagation is an algorithum used to calculate derivatives\n",
    "quickely.\n",
    "\n",
    "The backpropagation algorithum works by computing the gradient of the loss function with respect to each weight by the \n",
    "chain rule, computing the gradient one layer at a time, iterating backward from the last layer to avoid redundant\n",
    "calculation of intermediate terms in the chain rule.\n"
   ]
  },
  {
   "cell_type": "markdown",
   "id": "eed4690a-1233-4a81-9601-d20ff759e2c2",
   "metadata": {},
   "source": [
    "5. Provide two examples of clustering algorithms that can handle large datasets. And two that look for high-density areas ?\n"
   ]
  },
  {
   "cell_type": "markdown",
   "id": "451d30ae-e154-43bd-9fc0-a6a2cc8cdf21",
   "metadata": {},
   "source": [
    "The most commonly used algorithum in clustering are partitioning, hierarchical,grid based, density based, and \n",
    "model based algorithums. A review of clustering and its different techiques in data mining is done considering the \n",
    "criteria's for big data."
   ]
  },
  {
   "cell_type": "markdown",
   "id": "49650632-1516-4cec-a72c-15bef449a28b",
   "metadata": {},
   "source": [
    "6. Can you think of a scenario in which constructive learning will be advantageous? How can you go about putting it into action ?\n"
   ]
  },
  {
   "cell_type": "markdown",
   "id": "2860af6a-e92e-44f1-98b0-8e6f4a2f2093",
   "metadata": {},
   "source": [
    "In constructivist learning,the traditional classroom learning procedure is flipped.Instead of a teacher \n",
    "information a child about a subject and constructing a meaning for them, in constructivst learning, children construct \n",
    "their own meanings.Now, this may not be the best approch for every learing enviornment,but it can be tremendously\n",
    "helpful at home.\n",
    "\n",
    "The home enviornment is where children primarily devolop a sense of self and is the perfect setting for children to \n",
    "practice taking initiative in their learning via a Constructivist approach."
   ]
  },
  {
   "cell_type": "markdown",
   "id": "b78b3b06-cc2a-4e38-8ec9-50b083002324",
   "metadata": {},
   "source": [
    "7. How do you tell the difference between anomaly and novelty detection?\n"
   ]
  },
  {
   "cell_type": "markdown",
   "id": "0e4654b3-db20-4edd-9fea-49301b2c2366",
   "metadata": {},
   "source": [
    "In \"novelty detection\", you have a data set that contains only good data, and you're trying to determine wheather\n",
    "new observations fit within the existing data set.Tn \"outlier detection \", the data may contain outliers,which \n",
    "you want to identify."
   ]
  },
  {
   "cell_type": "markdown",
   "id": "11d54c85-0356-4470-8332-a75211fb110e",
   "metadata": {},
   "source": [
    "8. What is a Gaussian mixture, and how does it work? What are some of the things you can do about it?\n"
   ]
  },
  {
   "cell_type": "markdown",
   "id": "5180eb85-1597-4d47-9db9-b8b454e50a61",
   "metadata": {},
   "source": [
    "A Gaussian mixture is a function that is comprised of several Gaussians, each identified by k ∈ {1,…, K}, where K is the number of clusters of our dataset. Each Gaussian k in the mixture is comprised of the following parameters: A mean μ that defines its centre. A covariance Σ that defines its width."
   ]
  },
  {
   "cell_type": "markdown",
   "id": "ca81d31d-45e2-43bd-8c37-9507c672c4a7",
   "metadata": {},
   "source": [
    "9. When using a Gaussian mixture model, can you name two techniques for determining the correct number of clusters?\n"
   ]
  },
  {
   "cell_type": "markdown",
   "id": "5ba53932-7d10-4938-9cc1-107d12bc327e",
   "metadata": {},
   "source": [
    "An approach is to find the clusters using soft clustering methods and then see if they are gaussian.If they are \n",
    "then you can apply a GMM model which represents the whole dataset."
   ]
  }
 ],
 "metadata": {
  "kernelspec": {
   "display_name": "Python 3 (ipykernel)",
   "language": "python",
   "name": "python3"
  },
  "language_info": {
   "codemirror_mode": {
    "name": "ipython",
    "version": 3
   },
   "file_extension": ".py",
   "mimetype": "text/x-python",
   "name": "python",
   "nbconvert_exporter": "python",
   "pygments_lexer": "ipython3",
   "version": "3.9.12"
  }
 },
 "nbformat": 4,
 "nbformat_minor": 5
}
