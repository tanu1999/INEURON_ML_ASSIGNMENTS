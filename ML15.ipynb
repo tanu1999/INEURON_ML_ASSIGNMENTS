{
 "cells": [
  {
   "cell_type": "markdown",
   "id": "19635563-4118-403d-b9cb-6a7b34de1ac3",
   "metadata": {},
   "source": [
    "1. Recognize the differences between supervised, semi-supervised, and unsupervised learning ?\n"
   ]
  },
  {
   "cell_type": "markdown",
   "id": "aebd7e2c-31d5-4b91-9fe8-e64b0ebcb719",
   "metadata": {},
   "source": [
    "The difference between supervised , semi supervised , and unsupervised learning are:\n",
    "    \n",
    "supervised leaning aims to learn a function that, given a sample of data and desired outputs,approximates a function \n",
    "that maps inputs to outputs.\n",
    "\n",
    "Semi-supervised learning aims to label unlabeled data points using knowledge leaned from a small number of labeled \n",
    "data points.\n",
    "\n",
    "Unsupervised learning does not have (or need) any labeled outputs, so its goal is to infer the nature structure\n",
    "present within a set of data points."
   ]
  },
  {
   "cell_type": "markdown",
   "id": "10867640-37d9-4dd5-b83b-43493f27aecc",
   "metadata": {},
   "source": [
    "2. Describe in detail any five examples of classification problems ?\n"
   ]
  },
  {
   "cell_type": "markdown",
   "id": "acb9afdf-70de-4425-b658-3ac5890f3092",
   "metadata": {},
   "source": [
    "Ans: 5 Examples of Classification Problems :\n",
    "\n",
    "Logistic regression: Logistic regression is a supervised learning classification algorithm used to predict the probability of a target variable. ... It is one of the simplest ML algorithms that can be used for various classification problems such as spam detection, Diabetes prediction, cancer detection etc.\n",
    "\n",
    "Decision trees: Decision Trees are a type of Supervised Machine Learning (that is you explain what the input is and what the corresponding output is in the training data) where the data is continuously split according to a certain parameter. The tree can be explained by two entities, namely decision nodes and leaves.\n",
    "\n",
    "Random forest: Random forest is a Supervised Machine Learning Algorithm that is used widely in Classification and Regression problems. It builds decision trees on different samples and takes their majority vote for classification and average in case of regression. It performs better results for classification problems.\n",
    "\n",
    "XGBoost: XGBoost is an algorithm that has recently been dominating applied machine learning and Kaggle competitions for structured or tabular data. XGBoost is an implementation of gradient boosted decision trees designed for speed and performance.Why XGBoost must be a part of your machine learning toolkit.\n",
    "\n",
    "Light GBM: Light Gradient Boosted Machine, or LightGBM for short, is an open-source library that provides an efficient and effective implementation of the gradient boosting algorithm."
   ]
  },
  {
   "cell_type": "markdown",
   "id": "aab54f4b-8542-4c5b-a678-507ae81d5265",
   "metadata": {},
   "source": [
    "3. Describe each phase of the classification process in detail ?\n"
   ]
  },
  {
   "cell_type": "markdown",
   "id": "e3b49b71-201d-4446-a789-e7d3bba38830",
   "metadata": {},
   "source": [
    "Process of classification consists of two phases:\n",
    "\n",
    "Construction of the classifier\n",
    "\n",
    "Usage of the classifier.\n",
    "\n",
    "A classifier in machine learning is an algorithum that automatically orders or categorizes data into one or more of a \n",
    "set of \"classes\" One of the most common examples is an email classifier that scans emails to filter them by class\n",
    "label: Spam or Not Spam.\n",
    "\n",
    "The main goal of the Classification algorithum is to identify the category of a given dataset, and these algorithum \n",
    "are mainly used to predict the output for the categorical data.Multi-class Classifier: If a Classification problem\n",
    "has more than two putcomes, then it is called as multi-class Classifier."
   ]
  },
  {
   "cell_type": "markdown",
   "id": "5b7f952c-a522-41a2-9421-2e1f3f3be912",
   "metadata": {},
   "source": [
    "4. Go through the SVM model in depth using various scenarios ?\n"
   ]
  },
  {
   "cell_type": "markdown",
   "id": "72ef13da-3bdb-444b-872a-d08746b993ae",
   "metadata": {},
   "source": [
    "Support vector Machine (SVM) is a supervised machine learning algorithum that can be used for both classification \n",
    "or regression challenges.\n",
    "\n",
    "Support Vectors are simply the coordinates of individual observation.The SVM classifier is a frontier that best \n",
    "segregates the two classes(hyper-plane/ line).\n",
    "\n",
    "SVM or support Vector Machine is a linear model for classification  and regression problems. It can solve linear and\n",
    "non-linear problems and work well for many practical problems.The idea of SVM is simple: The algorithum creates a line\n",
    "or a hyperplane which seperates the data into classes."
   ]
  },
  {
   "cell_type": "markdown",
   "id": "69284850-5c52-4868-8acd-351b7cc109d5",
   "metadata": {},
   "source": [
    "5. What are some of the benefits and drawbacks of SVM ?\n"
   ]
  },
  {
   "cell_type": "markdown",
   "id": "def01412-4494-4b2a-964f-a5a00e146905",
   "metadata": {},
   "source": [
    "The following are some of the benifits and drawbacks of SVM:\n",
    "\n",
    "Benifits:\n",
    "    SVM works relatively well when there is a clear margin of separation between classes.\n",
    "    SVM is more effective in high dimensional spaces.\n",
    "    SVM is effective in cases where the number of dimensions is greater than the number of samples.\n",
    "    SVM is relatively memory efficient.\n",
    "\n",
    "Drawbacks:\n",
    "    SVM algorithm is not suitable for large data sets.\n",
    "    SVM does not perform very well when the data set has more noise i.e. target classes are overlapping.\n",
    "    In cases where the number of features for each data point exceeds the number of training data samples,the SVM will underperform.\n",
    "\n",
    "    \n"
   ]
  },
  {
   "cell_type": "markdown",
   "id": "7a417846-c0fc-4a61-9085-ced3fe5f8726",
   "metadata": {},
   "source": [
    "6. Go over the kNN model in depth ?\n"
   ]
  },
  {
   "cell_type": "markdown",
   "id": "113aaafc-c4d4-43a6-aa26-6120a4047538",
   "metadata": {},
   "source": [
    "KNN is the simplest machine learning algorithum to understand and also to explain.It is a versatile algorithum i.e\n",
    "useful for both classification and regression .It has one big advantage is that KNN has no pre assumption about the \n",
    "data. Let the data speak for itself.\n",
    "\n",
    "The abbrevation KNN stands for K-Nearest Neighbour.It is Supervised machine learning algorithum.The algorithum can \n",
    "be used to solve both classification and regression problem statements.The number of nearest neighbours to a new \n",
    "unknown variable that has to be predicted or classified is denoted by the symbol \"K\"."
   ]
  },
  {
   "cell_type": "markdown",
   "id": "01a88e14-037e-49e9-8a66-9e452c0a749e",
   "metadata": {},
   "source": [
    "7. Discuss the kNN algorithm's error rate and validation error ?\n"
   ]
  },
  {
   "cell_type": "markdown",
   "id": "7d28b95f-bb51-4da4-93cf-f914ac7b26b6",
   "metadata": {},
   "source": [
    "Training error here is the error you'll have when you input your training set to your KNN as test set.Since your \n",
    "test sample is in the training dataset,it'll choose itself as the closest and never make mistake.For this reason, the \n",
    "training error will be zero when K=1, irrespective of the dataset.\n",
    "\n",
    "KNN produces predictions by looking at the k nearest neighbours of a case x to predict its y, so that's fine.In \n",
    "particular,the kNN model basically consists of its training cases-but that's the cross validation prcedure doesn't \n",
    "care about at all."
   ]
  },
  {
   "cell_type": "markdown",
   "id": "2bb2bee9-b1f5-41ed-be58-486f22d243d6",
   "metadata": {},
   "source": [
    "8. For kNN, talk about how to measure the difference between the test and training results ?\n"
   ]
  },
  {
   "cell_type": "markdown",
   "id": "be4652c6-3122-4977-ac02-6c75fc9f674c",
   "metadata": {},
   "source": [
    "KNN can be used for classification-the output is a class membership (predicts a class - a discrete value).An\n",
    "object is classified by a majority vote of its neighbors, with the object being assigned to the class most common among\n",
    "its K nearest neighbors.\n",
    "\n",
    "KNN classifier does not have any specialized training phase as it uses all the training samples for classification and\n",
    "simple stores the result is memory .KNN is a non-parametric algorithum because it does not assume anything about the \n",
    "training data .This makes it useful for problems having non-linear data."
   ]
  },
  {
   "cell_type": "markdown",
   "id": "094283c0-87f0-4938-a574-844dbea67317",
   "metadata": {},
   "source": [
    "9. Create the kNN algorithm ?\n"
   ]
  },
  {
   "cell_type": "markdown",
   "id": "ea44c698-921f-4177-8712-60557976731a",
   "metadata": {},
   "source": [
    "The K-nearest neighbor algorithum is imported from the scikit-learn package.\n",
    "\n",
    "Created feature and target variables.\n",
    "\n",
    "Split data into trained and test data.\n",
    "\n",
    "Generate a k-NN model using neighbors value.\n",
    "\n",
    "Train or fit the data into the model.\n",
    "\n",
    "Predict the future."
   ]
  },
  {
   "cell_type": "markdown",
   "id": "8e2539ed-782f-4167-9ffc-57f3e9be3270",
   "metadata": {},
   "source": [
    "10. What is a decision tree, exactly ? What are the various kinds of nodes? Explain all in depth ?\n"
   ]
  },
  {
   "cell_type": "markdown",
   "id": "07772bdb-c02f-4b74-a3b9-2097421c0376",
   "metadata": {},
   "source": [
    "A decision tree is a tres-like model that acts as a decision support tool, visually displaying decision and their \n",
    "potential outcomes, consequences, and costs.Drawing a decision tree diagram starts from left to right and consists of \n",
    "burst nodes that split  into different paths.\n",
    "\n",
    "There are three different types of nodes:chance nodes,decision nodes, and end nodes.A chance node, represented by a\n",
    "circle, shows the probabilities of certain results.A decision node, representes by a square, shows a decision to be \n",
    "made, and an end node shows the final outcome of a decision path.\n",
    "\n"
   ]
  },
  {
   "cell_type": "markdown",
   "id": "93f0d55e-7f58-40ab-b6ee-7e269c7eaf41",
   "metadata": {},
   "source": [
    "11. Describe the different ways to scan a decision tree ?\n"
   ]
  },
  {
   "cell_type": "markdown",
   "id": "0b5296d2-accd-4211-8872-7cf44354b7c6",
   "metadata": {},
   "source": [
    "In a decision tree analysis, the decision-maker has usually to proceed through the following aix steps:\n",
    "   \n",
    "    Define the problem in structure terms.\n",
    "    Model the decision process.\n",
    "    Apply the appropriate probability values and financial data.\n",
    "    Solve the decision tree.\n",
    "    Perform sensitivity analysis."
   ]
  },
  {
   "cell_type": "markdown",
   "id": "c3c75e88-dfd4-4f17-b99e-9636d35826ee",
   "metadata": {},
   "source": [
    "12. Describe in depth the decision tree algorithm ?\n"
   ]
  },
  {
   "cell_type": "markdown",
   "id": "56632fc2-d932-4655-a9aa-63038618b536",
   "metadata": {},
   "source": [
    "Decision Tree algorithium belongs to the family of supervised learning algorithums.The goal of using a decision tree\n",
    "is to create a training model that can use to predict the class or value of the target variable by learning simple\n",
    "decision rule inferred from prior data(Trained data)."
   ]
  },
  {
   "cell_type": "markdown",
   "id": "5c61ef63-7fc1-4737-959d-54a91089dd50",
   "metadata": {},
   "source": [
    "13. In a decision tree, what is inductive bias? What would you do to stop overfitting ?\n"
   ]
  },
  {
   "cell_type": "markdown",
   "id": "39e7a9df-b63e-416a-a7f7-eea8d7863af5",
   "metadata": {},
   "source": [
    "The inductive bias (also known as learning bias) of a learning algorithum is the set of assumptions that the \n",
    "learners uses to predict  outputs of given inputs that it has not encountered.The kind of necessary assumption about\n",
    "the nature of the target function are subsumed in the phrase inductive bias.\n",
    "\n",
    "Overfitted makes the model relevant to its data set only, and irrelevant to any other data sets. Some of the methods\n",
    "used to prevent overfitting include ensembling, data augmentation, data simplifiction, and cross-validation."
   ]
  },
  {
   "cell_type": "markdown",
   "id": "532e5d9e-fe47-4f02-bc7f-e5b735a15fc1",
   "metadata": {},
   "source": [
    "14.Explain advantages and disadvantages of using a decision tree ?\n"
   ]
  },
  {
   "cell_type": "markdown",
   "id": "46bb7934-728c-429a-b4c3-58939882d4cc",
   "metadata": {},
   "source": [
    "Advantages and Disadvantages of Decision Trees in Machine Learning.Decision Tree is used to solve both \n",
    "classisfication and regression problems. But the main drawback of Decision Tree is that it generally leads to\n",
    "overfitted of the data."
   ]
  },
  {
   "cell_type": "markdown",
   "id": "60ded97e-47fc-4757-9e37-b7a847a76bfe",
   "metadata": {},
   "source": [
    "15. Describe in depth the problems that are suitable for decision tree learning ?\n"
   ]
  },
  {
   "cell_type": "markdown",
   "id": "50f50c83-7fc8-4669-8c15-4e15d004f31a",
   "metadata": {},
   "source": [
    "Appropriate Problems for Decision Tree Learning are:\n",
    "     Instances are represented by attribute-value pairs.The target function has discrete output values.\n",
    "\n",
    "Disjunctive descriptions may be required.\n",
    "\n",
    "The training data may contain errors.\n",
    "\n",
    "The training data may contain missing atttribute values."
   ]
  },
  {
   "cell_type": "markdown",
   "id": "a4fda524-06fb-43e7-9ee9-b0b45a4049a6",
   "metadata": {},
   "source": [
    "16. Describe in depth the random forest model. What distinguishes a random forest ?\n"
   ]
  },
  {
   "cell_type": "markdown",
   "id": "ca4e68ff-d9f4-4354-902f-5ccfb46859aa",
   "metadata": {},
   "source": [
    "The ramdom forest is a classification alforithum consisting of many decisions trees.It used bagging and feature \n",
    "randomness when building each indicidual tree to try to create an uncorrelated forest of trees whose prediction by\n",
    "committee is more accurate than that of any individual tree.The fundamental difference is that in random forests, only\n",
    "a subset of features are selected at random out of the total and the best split feature from the subset is used to \n",
    "split each node in a tree, unlike in bagging where all features are considered for splitting a node."
   ]
  },
  {
   "cell_type": "markdown",
   "id": "8773134c-6f8c-44cb-af6b-9d83d60eb8b6",
   "metadata": {},
   "source": [
    "17. In a random forest, talk about OOB error and variable value ?\n"
   ]
  },
  {
   "cell_type": "markdown",
   "id": "da92cd97-6d78-469a-816c-05b28c734f04",
   "metadata": {},
   "source": [
    "The out-of-bag (OOB) error is the average error for each calculated using predictions from the trees that do not\n",
    "contain in their respective bootstrap sample. There are two measure of importance given for each variable in the \n",
    "random forest. The first measure is based on how much the accuracy decreases when the variable is excludded.The second \n",
    "measure is based on the decrease of Gini impurity when a variable is chosen to split a node."
   ]
  },
  {
   "cell_type": "code",
   "execution_count": null,
   "id": "5cc00895-c154-48c3-b2ac-35fb7bcd5550",
   "metadata": {},
   "outputs": [],
   "source": []
  }
 ],
 "metadata": {
  "kernelspec": {
   "display_name": "Python 3 (ipykernel)",
   "language": "python",
   "name": "python3"
  },
  "language_info": {
   "codemirror_mode": {
    "name": "ipython",
    "version": 3
   },
   "file_extension": ".py",
   "mimetype": "text/x-python",
   "name": "python",
   "nbconvert_exporter": "python",
   "pygments_lexer": "ipython3",
   "version": "3.9.12"
  }
 },
 "nbformat": 4,
 "nbformat_minor": 5
}
