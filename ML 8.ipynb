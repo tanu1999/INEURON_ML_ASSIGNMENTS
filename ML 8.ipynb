{
 "cells": [
  {
   "cell_type": "markdown",
   "id": "d5f0c89f-1d14-4266-aa91-9928c6903ae1",
   "metadata": {},
   "source": [
    "1. What exactly is a feature? Give an example to illustrate your point.\n"
   ]
  },
  {
   "cell_type": "markdown",
   "id": "4d7ba0e5-807e-46ec-ae39-a4c3c928150e",
   "metadata": {},
   "source": [
    "Features are the basic building blocks of datasets.The quality of the features in your dataset  has a major impact on \n",
    "the quality of the insights you will gain when you use that dataset of machine learning.\n",
    "\n",
    "Additionally, different bussiness problems within the same industry do not neccessarily require the same features, Which \n",
    "is why it is important to have a strong understanding of the business goals of your data science project.\n"
   ]
  },
  {
   "cell_type": "markdown",
   "id": "02461ed2-674f-44a3-8db0-a00a0e7530fe",
   "metadata": {},
   "source": [
    "2. What are the various circumstances in which feature construction is required?\n"
   ]
  },
  {
   "cell_type": "markdown",
   "id": "84213507-b901-48f1-80e2-325113b98b15",
   "metadata": {},
   "source": [
    "The feature in your  data will directly influence the predictive models you use and the results you can achieve. your\n",
    "results are dependent  on many inter- dependent properties.You need great features that describe the structures inherent in your data. Better features means flexiblility."
   ]
  },
  {
   "cell_type": "markdown",
   "id": "f0615e23-e8b4-4804-9f74-3e9f914348ad",
   "metadata": {},
   "source": [
    "3. Describe how nominal variables are encoded.\n",
    "\n"
   ]
  },
  {
   "cell_type": "markdown",
   "id": "b5953c2e-7b77-470f-ae1a-c9ab13c0db4c",
   "metadata": {},
   "source": [
    "Nomial data is made of discrete values with no numerical relationship between the different categories - mean and \n",
    "median are meaningless.Animal species is one example.For example, pig is not higher than bird and lower than fish. "
   ]
  },
  {
   "cell_type": "markdown",
   "id": "dd29f565-74de-481e-8215-29be1e71e5bc",
   "metadata": {},
   "source": [
    "4. Describe how numeric features are converted to categorical features.\n",
    "\n"
   ]
  },
  {
   "cell_type": "markdown",
   "id": "5d9bc008-2450-44b0-a1b7-e35fe6a5908a",
   "metadata": {},
   "source": [
    "Converting categorical features into numeric features using domain  knowledge.For example, we are given a list  of \n",
    "countries and say we know the distance to these countries from india then we can replace it with distance from India.\n",
    "So, every country can be represented as its distance from india."
   ]
  },
  {
   "cell_type": "markdown",
   "id": "48db7aab-0420-4c2b-984a-6a4b845a12b8",
   "metadata": {},
   "source": [
    "5. Describe the feature selection wrapper approach. State the advantages and disadvantages of this\n",
    "approach?\n",
    "\n"
   ]
  },
  {
   "cell_type": "markdown",
   "id": "fa0f0275-ce87-4196-8c6e-6af754da32a9",
   "metadata": {},
   "source": [
    "Wrapper method measure the \"usefulness\" of features based on the classifier performance.In contrast,the filter\n",
    "methods pick up the intrinstic properties  of the features (i.e., the \"relevance\" of  the features) measured via \n",
    "univariate statistics instead of cross-validation performance.\n",
    "\n",
    "The wrapper classification algorithum with joint dimensionality reduction and classification can also be used but these \n",
    "method have high computaion cost,lowe discririnatinative power. Moreover,these methods depend on the efficient \n",
    "selection of classifiers for obtaining high accuracy"
   ]
  },
  {
   "cell_type": "markdown",
   "id": "0c7a92a3-d1b9-40bb-9b9b-101e649e2aab",
   "metadata": {},
   "source": [
    "6. When is a feature considered irrelevant? What can be said to quantify it?\n",
    "\n"
   ]
  },
  {
   "cell_type": "markdown",
   "id": "f657ae5b-e1a3-4313-b562-ff17bf26c09f",
   "metadata": {},
   "source": [
    "Features are considered relevant if they are either strongly or weakly relevant, and are considered irrelevant  \n",
    "otherwise.\n",
    "\n",
    "Irrelevant features can never cotributed to prediction accuracy , by definition.Also to quantify it will need to first \n",
    "check the list of features, There are three types of feature selection:\n",
    "    \n",
    "    Wrapper method (forward, backward, and stepwise selection)\n",
    "    \n",
    "    Filter methods (ANOVA, Pearson correlation, variance threshoulding)\n",
    "    \n",
    "    Embedded methods (Lasso, Ridge,Decision Tree)"
   ]
  },
  {
   "cell_type": "markdown",
   "id": "94d18ed7-28c1-4d73-908e-85eed8599fc1",
   "metadata": {},
   "source": [
    "7. When is a function considered redundant? What criteria are used to identify features that could\n",
    "be redundant?\n",
    "\n"
   ]
  },
  {
   "cell_type": "markdown",
   "id": "1a4ee805-59ae-4763-8209-b024bc08f41f",
   "metadata": {},
   "source": [
    "If two features {X1,X2} are highly correlated, then the two features become redundant features since they have same \n",
    "information in terms of correlation measure. In other words, the correlation measure provides statistical association\n",
    "between any given a pair of features.\n",
    "\n",
    "Minimum redundancy feature selection is an algorithum freqently used in a method to accuratelty identify characteristics\n",
    "of genes and phenotypes"
   ]
  },
  {
   "cell_type": "markdown",
   "id": "1e59e119-a8d0-46d4-a134-45b75d6c1d97",
   "metadata": {},
   "source": [
    "8. What are the various distance measurements used to determine feature similarity?\n",
    "\n"
   ]
  },
  {
   "cell_type": "markdown",
   "id": "94a06025-81ab-432e-a418-cf7e565637a7",
   "metadata": {},
   "source": [
    "Four of the most commonly used distance measures in machine learning are as follows:\n",
    "    \n",
    "    Hamming Distance \n",
    "    \n",
    "    Euclidean Distance \n",
    "    \n",
    "    Manhattan Distance"
   ]
  },
  {
   "cell_type": "markdown",
   "id": "81bae81e-9cfe-4d88-8852-713a9b675882",
   "metadata": {},
   "source": [
    "9. State difference between Euclidean and Manhattan distances?\n"
   ]
  },
  {
   "cell_type": "markdown",
   "id": "f09a2d52-a1a4-4a61-9208-1a555cfcb89f",
   "metadata": {},
   "source": [
    "Euclidean & Hamming distances are used to measure similarity or dissimilarity between two sequences.Euclidean\n",
    "distance is extensively applied in analysis of convolutaional codes and Trellis codes.\n",
    "\n",
    "Hamming distance is frequently encountered in the analysis of block codes."
   ]
  },
  {
   "cell_type": "markdown",
   "id": "47645713-c098-4e9c-9e74-230cc25fdd34",
   "metadata": {},
   "source": [
    "\n",
    "10. Distinguish between feature transformation and feature selection.\n",
    "\n"
   ]
  },
  {
   "cell_type": "markdown",
   "id": "46f2b2b4-0d10-4c20-ba12-1a831fffdb91",
   "metadata": {},
   "source": [
    "Feature selection is for filtering irrelevant or redundant features from your dataset. The key difference between \n",
    "feature selection and extraction is that feature selection keeps a subset of the original features while feature \n",
    "extraction creates brand new ones."
   ]
  },
  {
   "cell_type": "code",
   "execution_count": null,
   "id": "c966596e-5e9b-4913-be32-c0ee20d57ff2",
   "metadata": {},
   "outputs": [],
   "source": [
    "11. Make brief notes on any two of the following:\n",
    "\n",
    "1.SVD (Standard Variable Diameter Diameter)\n",
    "\n",
    "2. Collection of features using a hybrid approach\n",
    "\n",
    "3. The width of the silhouette\n",
    "\n",
    "4. Receiver operating characteristic curve"
   ]
  },
  {
   "cell_type": "code",
   "execution_count": null,
   "id": "7953d6d4-3482-4dd5-bba2-085b66d8dd00",
   "metadata": {},
   "outputs": [],
   "source": []
  },
  {
   "cell_type": "code",
   "execution_count": null,
   "id": "f9ea1fda-55b5-42d4-871d-69bd0d4d0087",
   "metadata": {},
   "outputs": [],
   "source": []
  },
  {
   "cell_type": "code",
   "execution_count": null,
   "id": "e598203e-496a-4d05-8399-681e00f9b008",
   "metadata": {},
   "outputs": [],
   "source": []
  },
  {
   "cell_type": "code",
   "execution_count": null,
   "id": "b18cfb72-f145-4984-bc10-0d00d6603874",
   "metadata": {},
   "outputs": [],
   "source": []
  }
 ],
 "metadata": {
  "kernelspec": {
   "display_name": "Python 3 (ipykernel)",
   "language": "python",
   "name": "python3"
  },
  "language_info": {
   "codemirror_mode": {
    "name": "ipython",
    "version": 3
   },
   "file_extension": ".py",
   "mimetype": "text/x-python",
   "name": "python",
   "nbconvert_exporter": "python",
   "pygments_lexer": "ipython3",
   "version": "3.9.12"
  }
 },
 "nbformat": 4,
 "nbformat_minor": 5
}
