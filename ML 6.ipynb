{
 "cells": [
  {
   "cell_type": "markdown",
   "id": "133040de-2c76-4d3c-bb0e-ca65d0832243",
   "metadata": {},
   "source": [
    "1. In the sense of machine learning, what is a model? What is the best way to train a model?\n"
   ]
  },
  {
   "cell_type": "markdown",
   "id": "3389a19f-0755-442d-a1c2-299c281cf9c1",
   "metadata": {},
   "source": [
    "A Machine learning models is a file that has been trained to recognize certain types of patterns.You train a model\n",
    "over a set of data, providing it an alogorithum that it can use to reason over and learn  from those data.\n",
    "\n",
    "1.Model Naming -Give your model a name,Let's start with giving your model a name, describe your model and attach tags \n",
    "to your model.Tags are to make your model searchable.\n",
    "\n",
    "2.Data Type Selection -Choose data type(Image/Text/CSV),Its time to tell us about the type of data you want to\n",
    "train your model.ML Models support Images,Text and *.CSV (categorical data) data types.\n",
    "\n",
    "3.Data Upload -Upload your data or choose from Public data sets: Choosen from public datasets like jewellery data set \n",
    "(Images),Gender data set(Images),Question or sentence data set (Text),Numeric data set(CSV) or upload your data.\n",
    "\n",
    "4.Type category (label) for the files(images/text file) that you have uploaded and click on submit to begin upload.\n",
    "Wait for some time till our web app uploads all the files.you can upload images for as many categories as possible.\n",
    "\n",
    "5.Start Training- Push the button, to start the training.Now Mateverse's intelligent backend will start with processing \n",
    "the data that you have uploaded and prearing it for the training."
   ]
  },
  {
   "cell_type": "markdown",
   "id": "41d0cf01-5fed-4f3c-a9f7-ff1055e7d376",
   "metadata": {},
   "source": [
    "2. In the sense of machine learning, explain the 'No Free Lunch' theorem.\n"
   ]
  },
  {
   "cell_type": "markdown",
   "id": "4ab89877-80ce-496d-9610-21bcef26d98c",
   "metadata": {},
   "source": [
    "The no Free lunch theorem,often abbreviation as NFL or NFLT, is a theoretical finding that suggests all optimization\n",
    "algorithums perform equally well when their performance is averaged over all possible objective functions.In \n",
    "computaional complexity and optimization the no free lunch theorem is a result that states that for certain types of \n",
    "mathematical problems,the coputational cost of finding a solution, averaged over all problems in the class, is the \n",
    "same for any solution method.\n",
    "\n",
    "In Simple Words \"NO free lunch\" theorem means we can't rely o one model to be best of all models.we have to \n",
    "understand data properly and make use of ML understanding and make use of models to find best out of it."
   ]
  },
  {
   "cell_type": "markdown",
   "id": "036f3e37-5172-48c2-9b9c-5793c0730143",
   "metadata": {},
   "source": [
    "3. Describe the K-fold cross-validation mechanism in detail.\n",
    "\n"
   ]
  },
  {
   "cell_type": "markdown",
   "id": "1674ba5c-d962-4f91-8f95-b5e85e65b28c",
   "metadata": {},
   "source": [
    "In K-fold cross validation, data D is subset into k sunsets randomely.Let us assume S1...Sk are the subset where Sk is \n",
    "the Kth randomely split sunset of data D. In the first iteration,D-S1 is used for training and S1 for testing the \n",
    "model. When the model has been trained and tested,evaluation can be done, score is noted elsewhere and the trained \n",
    "model is discarded.\n",
    "\n",
    "These K-iterations go on where 1/k subset of D is always set aside for testing the data and D-1/k subsets are used for \n",
    "training, evaluating and discarding the model .At the end of all the itterations,average of all the evaluation scores \n",
    "it taken and used as output."
   ]
  },
  {
   "cell_type": "markdown",
   "id": "d143d5f9-4b71-495f-98a8-889517604ab3",
   "metadata": {},
   "source": [
    "4. Describe the bootstrap sampling method. What is the aim of it?\n",
    "\n"
   ]
  },
  {
   "cell_type": "markdown",
   "id": "539c68cc-9753-489a-b5b9-02ed358abb63",
   "metadata": {},
   "source": [
    "The bootstrap method is a statistical technique for estimation quantities about a population by averaging estimates\n",
    "from multiple small data samples.\n",
    "\n",
    "Importantly, samples are constructed by drawing observations from a large data sample one at a time and returning them \n",
    "to the data sample after they have been chosen.This allows a given observation to be included in the given small sample \n",
    "more than once.This approch to sampling is called sampling with replacement."
   ]
  },
  {
   "cell_type": "markdown",
   "id": "ec69dd9d-dd9e-468c-a4d6-44c2ce24ecfd",
   "metadata": {},
   "source": [
    "5. What is the significance of calculating the Kappa value for a classification model? Demonstrate\n",
    "how to measure the Kappa value of a classification model using a sample collection of results.\n",
    "\n"
   ]
  },
  {
   "cell_type": "markdown",
   "id": "8ca7aecb-8070-4992-beb3-2da328d8226f",
   "metadata": {},
   "source": [
    "Kappa value or cohen's kappa coefficient is a evaluation matric for classification models. Its signinficance as an\n",
    "evaluation metric is that it can be used to evaluate multi class classification models and also works on models trained \n",
    "on imbalanced datasets(scores like accuracy scores fail for imbalanced datasets).\n",
    "\n",
    "In simpler words It basically tells you how much better your classifier is performing over the performance of a\n",
    "classifier that simply guesses at random according to the frequency of each class. Cohen's kappa is always less than or \n",
    "equal to 1.values of 0 or less , indicate that the classifier is useless Cohen suggested the Kappa result be \n",
    "interpreted as follows: values <=0 as indicating no agreement and 0.01-0.20 as none to slight, 0.21-0.40 as fair,\n",
    "0.41-0.60 as moderated ,0.61-0.80 as substitial, and 0.81-1.00 as almost prefect agreement."
   ]
  },
  {
   "cell_type": "markdown",
   "id": "a8798acd-8b17-4fb9-9d56-3ddf570117e7",
   "metadata": {},
   "source": [
    "6. Describe the model ensemble method. In machine learning, what part does it play?\n",
    "\n"
   ]
  },
  {
   "cell_type": "markdown",
   "id": "aac453b0-b5f7-41f6-b113-f5539d5eef89",
   "metadata": {},
   "source": [
    "Ensemble method or ensemble machine learning models are models where more than one models are being used \n",
    "spontaneously to produce better results than individually trained models."
   ]
  },
  {
   "cell_type": "markdown",
   "id": "e8b54b8b-14ee-4c67-8536-ae1b7704a45d",
   "metadata": {},
   "source": [
    "7. What is a descriptive model's main purpose? Give examples of real-world problems that\n",
    "descriptive models were used to solve.\n",
    "\n"
   ]
  },
  {
   "cell_type": "markdown",
   "id": "8cd0940d-a074-4192-877d-d95d7b70c123",
   "metadata": {},
   "source": [
    "A descriptive model is used for tasks that would benifit  from the insight gained from summerizing data in new and \n",
    "interesting ways.As opposed to predictive models that predict  a target  of interest,in a descriptive model,no single \n",
    "feature is more important than any other.In fact, because there is no target to learn, the process of training a descriptive model is called unsupervised learning.\n",
    "\n",
    "It is used in customer classification as real life problem."
   ]
  },
  {
   "cell_type": "markdown",
   "id": "e4f8682c-7160-4ba4-825b-f47d922873cb",
   "metadata": {},
   "source": [
    "8. Describe how to evaluate a linear regression model.\n",
    "\n"
   ]
  },
  {
   "cell_type": "markdown",
   "id": "8627b38f-4d6f-456a-afd4-7920d516952e",
   "metadata": {},
   "source": [
    "Evaluation of a linear regression model can be done using R-square.R square is calculated as the sum of squared errors \n",
    "in predictions made,divided by summation of all sum of squares.R square measures how much of the change in target\n",
    "variable can be explained by the linear regressor.Its value ranges from 0 and 1 where 0 means poor preformance and 1\n",
    "means good.Some other technique which can be used to evaluate a linear regression model are :\n",
    "    \n",
    "    1.Mean square Error (MSE)/Root Mean Square Error (RMSE)\n",
    "    \n",
    "    2.Mean Absolute Error(MAE)"
   ]
  },
  {
   "cell_type": "markdown",
   "id": "3ba2e2f4-2852-40be-9787-75e9d12a0eac",
   "metadata": {},
   "source": [
    "9. Distinguish :\n",
    "\n",
    "    1. Descriptive vs. predictive models\n",
    "\n",
    "    2. Underfitting vs. overfitting the model\n",
    "\n",
    "    3. Bootstrapping vs. cross-validation\n",
    "\n"
   ]
  },
  {
   "cell_type": "markdown",
   "id": "dfc3edb3-49d3-4da2-8003-443b1d9608c7",
   "metadata": {},
   "source": [
    "The differences between:\n",
    "\n",
    "1.Descriptive vs. predictive models\n",
    "\n",
    "    \n",
    "    *Descriptive models are built to identify trends and underlying patterns.\n",
    "    \n",
    "    *Predictive models are built to predict a dependent variable value.\n",
    "    \n",
    "    *Most of descriptive models are built using unsupervised machine learning.\n",
    "    \n",
    "    *Most of predictive models are built using classification and regression models.\n",
    "    \n",
    "    *Example for descriptive model: Finding why consumers are engaging more with a social media post.\n",
    "    \n",
    "    *Example for predictive model: Predicting the chances of cancer in a patient.\n",
    "\n",
    "2.Underfitting vs. overfitting the model\n",
    "\n",
    "    *Underfitting is a situation arising when the hypothesis is way too simple, or when the machine learning model is way too simple to produce good results.\n",
    "    \n",
    "    *Overfitting is a situation arising when the hypothesis is way too complex, or when the machine learning model is way too complex to produce good results.\n",
    "    \n",
    "    *Underfitting causes a model to produce poor results due to heavily simplified algorithm reacting lightly to changes in the unseen data for independent variables from the training data.\n",
    "    \n",
    "    *Overfitting makes a model produce poor results due to slightest variations in the unseen data for independent variables from the training data\n",
    "    \n",
    "    *Underfitting is also called High Bias.\n",
    "    \n",
    "    *Overfitting is also called High variance\n",
    "\n",
    "3.Bootstrapping vs cross-validation\n",
    "\n",
    "    *Boostrap sampling is a method of sampling in which the repeated sampling is done with replacement using a data D in random draws over which machine learning models are trained for better performance.\n",
    "    \n",
    "    *Cross validation is a method used to check the efficacy of the machine learning model on test data.\n",
    "    \n",
    "    *End goal of bootstrapping is to reduce overfitting and increase performance.\n",
    "    \n",
    "    *End goal of cross validation is only to produce test scores to check efficacy of model\n",
    "    \n",
    "    *Bootstrapping is best employed in Random Forest Classifier.\n",
    "    \n",
    "    *Cross Validation is best employed using K-fold cross validation technique."
   ]
  },
  {
   "cell_type": "markdown",
   "id": "5f98a4d1-905a-46b2-8faa-1b16d090141f",
   "metadata": {},
   "source": [
    "10. Make quick notes on:\n",
    "\n",
    "     1. LOOCV.\n",
    "\n",
    "     2. F-measurement\n",
    "\n",
    "     3. The width of the silhouette\n",
    "\n",
    "     4. Receiver operating characteristic curve"
   ]
  },
  {
   "cell_type": "markdown",
   "id": "fdf12b1f-e651-44dd-8157-eb23b07383ac",
   "metadata": {},
   "source": [
    "The Quick notes on: LOOCV or Leave One out cross Validation is a form of K-fold cross validation where only one \n",
    "observation is left out for validation purpose while the rest of the data is used for model training each iteration.It \n",
    "is computaionally taxing and should only be used for data with low dimensionality.\n",
    "\n",
    "Harmonic mean of Precision score and recall score is called F-measurement or F-score.It is formulated as 2 (pr re )/pr\n",
    "+re where  pr is precision score and re is recall score.\n",
    "\n",
    "Estimate of average inter cluster distance to give efficancy/performance of cluster algorithum is called width of the \n",
    "silhouette.It can also be defined as how indentical/similar a data point \"x\" is to the data points inside the cluster\n",
    "to which x is assigned.Its value ranges from -1 to 1 where 1 means good and -1 means bad.\n",
    "\n",
    "Curve plotted between True Positive Rate and False Positive Rate is Reciever Operating Characteristic curve and is \n",
    "used to find the area under the curve for ROC-AUC score for binary classifiaction evaluation.true positive Rate and \n",
    "False Positive Rate are calculated  for different threshold values where thresholds take values starting from the \n",
    "highest probility scores assigned to data points and goes up to the lowest probability score.The curve is impacted \n",
    "by presence of outliers, and simple models. Extention can be made to this curve to suit multiclass classification \n",
    "evaluation requirements."
   ]
  },
  {
   "cell_type": "code",
   "execution_count": null,
   "id": "55093911-9ac5-4a10-a3e1-9ed5f914d2f2",
   "metadata": {},
   "outputs": [],
   "source": []
  },
  {
   "cell_type": "code",
   "execution_count": null,
   "id": "209d069a-fc3b-4c82-af5e-3e70caa823ef",
   "metadata": {},
   "outputs": [],
   "source": []
  },
  {
   "cell_type": "code",
   "execution_count": null,
   "id": "54f6cbc3-58ff-4e80-acbb-9703d1c18b12",
   "metadata": {},
   "outputs": [],
   "source": []
  },
  {
   "cell_type": "code",
   "execution_count": null,
   "id": "6300a415-1220-4fd0-9a6c-50799d166699",
   "metadata": {},
   "outputs": [],
   "source": []
  },
  {
   "cell_type": "code",
   "execution_count": null,
   "id": "97d66b0e-f256-42a3-90a9-2c72464ea1eb",
   "metadata": {},
   "outputs": [],
   "source": []
  }
 ],
 "metadata": {
  "kernelspec": {
   "display_name": "Python 3 (ipykernel)",
   "language": "python",
   "name": "python3"
  },
  "language_info": {
   "codemirror_mode": {
    "name": "ipython",
    "version": 3
   },
   "file_extension": ".py",
   "mimetype": "text/x-python",
   "name": "python",
   "nbconvert_exporter": "python",
   "pygments_lexer": "ipython3",
   "version": "3.9.12"
  }
 },
 "nbformat": 4,
 "nbformat_minor": 5
}
