{
 "cells": [
  {
   "cell_type": "markdown",
   "id": "71ea01fc-7a10-40cc-a7c7-cdea086fc9b4",
   "metadata": {},
   "source": [
    "1. What are the key reasons for reducing the dimensionality of a dataset? What are the major disadvantages ?\n"
   ]
  },
  {
   "cell_type": "markdown",
   "id": "bc54d2ab-d4e9-4b9b-bb06-c4671dba398b",
   "metadata": {},
   "source": [
    "Disadvantages of Dimensionality Reduction:\n",
    "\n",
    "    It may lead to some amount of data loss.\n",
    "    \n",
    "    PCA tends to find linera correlation between variables, which is sometimes undesireable.\n",
    "    \n",
    "    PCA fails in cases where mean and covariance are not enough to define datasets.\n",
    "    "
   ]
  },
  {
   "cell_type": "markdown",
   "id": "d8c1ac5e-3f9e-4748-81b8-a21f871718a0",
   "metadata": {},
   "source": [
    "2. What is the dimensionality curse ?\n"
   ]
  },
  {
   "cell_type": "markdown",
   "id": "f2e0e105-d48e-4903-9da8-53a48dcb10b2",
   "metadata": {},
   "source": [
    "The curse of dimensionality basically means that the error increases with the increase in the number of features.\n",
    "It refers to the fact that algorithums are harder to design in high dimensions and often have a running time exponential\n",
    "in the dimensions."
   ]
  },
  {
   "cell_type": "markdown",
   "id": "e8a9878f-d175-4d2a-9dad-f832c4363437",
   "metadata": {},
   "source": [
    "3. Tell if its possible to reverse the process of reducing the dimensionality of a dataset? If so, how can you go about doing it? If not, what is the reason ?\n"
   ]
  },
  {
   "cell_type": "markdown",
   "id": "7342f611-5dba-42fc-a6c9-bc83a6453017",
   "metadata": {},
   "source": [
    "No,dimentionality reduction is not reversible in general."
   ]
  },
  {
   "cell_type": "markdown",
   "id": "4edd4c2b-2b64-48b9-a799-22feeda35023",
   "metadata": {},
   "source": [
    "4. Can PCA be utilized to reduce the dimensionality of a nonlinear dataset with a lot of variables ?\n"
   ]
  },
  {
   "cell_type": "markdown",
   "id": "ba881fc6-d5f2-495e-afc5-1adc6113f7f2",
   "metadata": {},
   "source": [
    "Well it depends on dataset.If it is comprised of points that are perfectly aligned,PCA can reduce the dataset\n",
    "down to 1 dimension and preserve 95% of the variance."
   ]
  },
  {
   "cell_type": "markdown",
   "id": "dc018961-3e92-4e53-89c7-37e775679e49",
   "metadata": {},
   "source": [
    "5. Assume you're running PCA on a 1,000-dimensional dataset with a 95 percent explained variance ratio. What is the number of dimensions that the resulting dataset would have ?\n"
   ]
  },
  {
   "cell_type": "markdown",
   "id": "8b5a030f-28c1-4c9b-84f6-c913f7dde63c",
   "metadata": {},
   "source": [
    "If I perform PCA on a 1,000-dimensional dataset, setting the explained variance ratio to 95%.In this case roughly\n",
    "950 dimentions are required to preserve 95% of the variance.So the answer is , it depends on the dataset, and it could \n",
    "be any number between 1 and 950."
   ]
  },
  {
   "cell_type": "markdown",
   "id": "5c0cd168-c2ef-417c-9e46-93032d7b1399",
   "metadata": {},
   "source": [
    "6. Will you use vanilla PCA, incremental PCA, randomized PCA, or kernel PCA in which situations ?\n"
   ]
  },
  {
   "cell_type": "markdown",
   "id": "440c3d80-1e55-4351-b2c7-36f21af2f967",
   "metadata": {},
   "source": [
    "The following are the scenarios where the following are used :\n",
    "    \n",
    "    Vanilla PCA: the dataset fit in memory\n",
    "    \n",
    "    Incremental PCA: largest dataset that don't fit in memory,online takes\n",
    "    \n",
    "    Randomized PCA: Considerably reduce dimentionality and dataset fit the memort.\n",
    "    \n",
    "    Kernel PCA: used for nonlinear PCA"
   ]
  },
  {
   "cell_type": "markdown",
   "id": "b8f14e9b-477b-4e64-8919-03d8e234e1c6",
   "metadata": {},
   "source": [
    "7. How do you assess a dimensionality reduction algorithm's success on your dataset ?\n"
   ]
  },
  {
   "cell_type": "markdown",
   "id": "0275b7b3-abe9-4292-8e40-3875cb55d152",
   "metadata": {},
   "source": [
    "By doing PCA,it is a good choice for dimensionality reduction and visualization for datasets  with a large number\n",
    "of variables."
   ]
  },
  {
   "cell_type": "markdown",
   "id": "f3f741e0-2f3c-44d0-bbd3-e93ec47c0d97",
   "metadata": {},
   "source": [
    "8. Is it logical to use two different dimensionality reduction algorithms in a chain ?\n"
   ]
  },
  {
   "cell_type": "markdown",
   "id": "5203d7b0-12c5-4b9f-8b50-385e5df187fc",
   "metadata": {},
   "source": [
    "Indeed,it often make any sense to chain two different dimensionality reduction algorithums.A common example is\n",
    "using PCA to quickely get rid of large number of useless dimensions,then applying another much slower dimentionality\n",
    "reduction algorithum, such as LLE."
   ]
  },
  {
   "cell_type": "code",
   "execution_count": null,
   "id": "ca406b00-899b-462a-ba81-cf0856151ba5",
   "metadata": {},
   "outputs": [],
   "source": []
  }
 ],
 "metadata": {
  "kernelspec": {
   "display_name": "Python 3 (ipykernel)",
   "language": "python",
   "name": "python3"
  },
  "language_info": {
   "codemirror_mode": {
    "name": "ipython",
    "version": 3
   },
   "file_extension": ".py",
   "mimetype": "text/x-python",
   "name": "python",
   "nbconvert_exporter": "python",
   "pygments_lexer": "ipython3",
   "version": "3.9.12"
  }
 },
 "nbformat": 4,
 "nbformat_minor": 5
}
