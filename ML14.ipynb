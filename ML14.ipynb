{
 "cells": [
  {
   "cell_type": "markdown",
   "id": "424d47c1-4b58-455e-b75d-f7882719c794",
   "metadata": {},
   "source": [
    "1. What is the concept of supervised learning? What is the significance of the name ?\n"
   ]
  },
  {
   "cell_type": "markdown",
   "id": "c6044a83-29af-48ef-9665-4569c2dcea70",
   "metadata": {},
   "source": [
    "Supervised learning, also known as supervised machine learning, is a subcategory of machine learning and artificial \n",
    "intelligence.It is defined by its use of labeled datasets to train algorithum that to classify data or predict outcomes\n",
    "accurately.\n"
   ]
  },
  {
   "cell_type": "markdown",
   "id": "caf09b39-bf8b-4572-aa74-7b5c8953ca67",
   "metadata": {},
   "source": [
    "2. In the hospital sector, offer an example of supervised learning ?\n"
   ]
  },
  {
   "cell_type": "markdown",
   "id": "b5de9b80-bb25-4a56-8e5f-ac65adc094e6",
   "metadata": {},
   "source": [
    "Supervised learning used a training set to teach models to yield the desired output.This training dataset\n",
    "includes input and correct outputs, which allow the model to learn  over time.The algorithum measures its accuracy\n",
    "through the loss function, adjusting until the error has been sufficiently minimized.\n"
   ]
  },
  {
   "cell_type": "markdown",
   "id": "a14aba7b-dfff-41fc-a27b-5b8fb28f9ce9",
   "metadata": {},
   "source": [
    "3. Give three supervised learning examples ?\n"
   ]
  },
  {
   "cell_type": "markdown",
   "id": "10ed1b68-36c0-4b0f-ab0a-fc57834fee8b",
   "metadata": {},
   "source": [
    "Example of supervised learning algorithuma are:\n",
    "    \n",
    "    Linera Regression .\n",
    "    \n",
    "    Nearest Neighbor.\n",
    "    \n",
    "    Gussian Native Bayes.\n",
    "    \n",
    "    Decision Vector Machine (SVM)\n",
    "    \n",
    "    Random forest."
   ]
  },
  {
   "cell_type": "markdown",
   "id": "815f9ceb-a7dc-47bb-afd1-c6f24af1c659",
   "metadata": {},
   "source": [
    "4. In supervised learning, what are classification and regression ?\n"
   ]
  },
  {
   "cell_type": "markdown",
   "id": "366f2686-372e-4d10-bfc7-9d3cf00668e2",
   "metadata": {},
   "source": [
    "Fundamentally,classification is about predicting a label and regression is about prediction a quantity.That classification is a problem of predicting a discrete class label output for an example. That regression is the problem of predicting a continuous quantity output for an example."
   ]
  },
  {
   "cell_type": "markdown",
   "id": "ed7b9128-7b48-4b9e-91c7-e38aa74ae7f1",
   "metadata": {},
   "source": [
    "5. Give some popular classification algorithms as examples ?\n"
   ]
  },
  {
   "cell_type": "markdown",
   "id": "f572a939-6de1-4a40-b7bb-c24b4d3dc2bf",
   "metadata": {},
   "source": [
    "Popular algorithum that can be used for multi-class classification include:\n",
    "    \n",
    "    K-Nearest Neighbors \n",
    "    \n",
    "    Decision Trees.\n",
    "    \n",
    "    Naive Bayes"
   ]
  },
  {
   "cell_type": "markdown",
   "id": "d2a31f83-7788-4575-b5cd-f986e0b2a71f",
   "metadata": {},
   "source": [
    "6. Briefly describe the SVM model ?\n"
   ]
  },
  {
   "cell_type": "markdown",
   "id": "083fdf5e-e32d-41ad-b7f0-da265fed21ed",
   "metadata": {},
   "source": [
    "A support vector machine (SVM) is a supervised machine learning model that uses classification algorithums for two-\n",
    "group classification problems. After giving an SVM model sets of labeled training data for each category,They're able\n",
    "to categorize new text."
   ]
  },
  {
   "cell_type": "markdown",
   "id": "c938c579-5fbc-47c1-b458-695cfca786a0",
   "metadata": {},
   "source": [
    "7. In SVM, what is the cost of misclassification ?\n"
   ]
  },
  {
   "cell_type": "markdown",
   "id": "8fadf5fe-5a0a-4f4f-92f4-59f5a0b49b56",
   "metadata": {},
   "source": [
    "In cost-sensitive learning instead of each instance being either correctly or incorrectly classified, each class \n",
    "(or instance) is given misclassification cost. Thus, instead of trying to optimize the accuracy, the problem is then \n",
    "to minimize the total misclassification cost."
   ]
  },
  {
   "cell_type": "markdown",
   "id": "1d552c11-0c7b-4464-a190-fa2671b6ac5b",
   "metadata": {},
   "source": [
    "8. In the SVM model, define Support Vectors ?\n"
   ]
  },
  {
   "cell_type": "markdown",
   "id": "55063512-fbc8-45e9-a3f1-17cfc6165e10",
   "metadata": {},
   "source": [
    "Support vectors are data  points that are closed to the hyperplane and influence the position and orientation of \n",
    "the hyperplane.Using these support vectors,we maximize the margin of the classifier.Deleting the support vectors \n",
    "will change the position of the hyperplane.These are the points that help us build our SVM."
   ]
  },
  {
   "cell_type": "markdown",
   "id": "0ced401d-3d65-4abb-83ec-a1e3c3882508",
   "metadata": {},
   "source": [
    "9. In the SVM model, define the kernel ?\n"
   ]
  },
  {
   "cell_type": "markdown",
   "id": "3b9132f5-b5bd-4e02-bf4d-a59d9491a4f3",
   "metadata": {},
   "source": [
    "SVM algorithum use a set of mathematical functions that are defined as the kernel.The function of kernel is to \n",
    "take data as input and transform it into the required form.Those function can be different types.For example linear,\n",
    "nonlinear, Polyonmial,radial basis function (RBF), and sigmoid."
   ]
  },
  {
   "cell_type": "markdown",
   "id": "b91e473b-6b94-40fd-8960-5213cf35d2e5",
   "metadata": {},
   "source": [
    "10. What are the factors that influence SVM's effectiveness ?"
   ]
  },
  {
   "cell_type": "markdown",
   "id": "3eb6f5ad-939d-46f6-9cfc-74d08827abe6",
   "metadata": {},
   "source": [
    "SVM or support vector Machine is a linear model for classification and regression problems.It can solve linear \n",
    "and non-linear problems and work well for many practical problems.The idea of SVM is simple The algorithum creates a \n",
    "line or a hyperplane which seperates the data into classes."
   ]
  },
  {
   "cell_type": "markdown",
   "id": "153b49c6-e193-4434-a75a-1b013f992c17",
   "metadata": {},
   "source": [
    "11. What are the benefits of using the SVM model ?\n"
   ]
  },
  {
   "cell_type": "markdown",
   "id": "796f0216-737c-44ff-ab9e-eb215c2f1d75",
   "metadata": {},
   "source": [
    "SVM works relatively well when their is a clear margin of seperation between classes.SVM is more effective in \n",
    "high dimentional spaces.SVM is effective in cases where the number of dimensions is greater than the number of samples.\n",
    "SVM is relatively memory efficient.\n"
   ]
  },
  {
   "cell_type": "markdown",
   "id": "49ec7b88-1274-476a-bcba-81d008eae1fa",
   "metadata": {},
   "source": [
    "12. What are the drawbacks of using the SVM model ?\n"
   ]
  },
  {
   "cell_type": "markdown",
   "id": "9ce12a02-166e-4c4b-a707-0f8816d448e2",
   "metadata": {},
   "source": [
    "SVM algorithum is not suitable for large data sets.SVM does not perform well when the data set has more noise \n",
    "i.e. target classes are overlapping. In cases where the number of features for each data point exceeds the number of\n",
    "training data samples the SVM will underperform"
   ]
  },
  {
   "cell_type": "markdown",
   "id": "08c21750-5186-48f2-841e-cffc9330a0bf",
   "metadata": {},
   "source": [
    "13. Notes should be written on\n",
    "\n",
    "The kNN algorithm has a validation flaw.\n",
    "\n",
    "In the kNN algorithm, the k value is chosen.\n",
    "\n",
    "A decision tree with inductive bias\n"
   ]
  },
  {
   "cell_type": "markdown",
   "id": "08ef4de8-a955-40d5-ac33-bdad2fbb5f23",
   "metadata": {},
   "source": [
    "The Short notes has a validation flaw.\n",
    "\n",
    "The KNN algorithum low accuracy knn is caused by several factors.One of them is that every characterisic of the method \n",
    "has the same result on calulatiing distance .The solution of this problem is to give weight to each data characteristic.\n",
    "\n",
    "In the KNN algorithum the k value is chosen.\n",
    "\n",
    "The optimal K value usually found is the square root of N, Where N is the total number of samples.use an error plot or\n",
    "accuracy plot to find the most favorable K value. KNN performs well with multi label classes, but you must be aware \n",
    "of the outliers.\n",
    "\n",
    "A decision tree with inductive bias \n",
    "\n",
    "Shorter tree are preferred over longer ones.Trees that place high information gain attributes close to the root are \n",
    "preferred over those that do not."
   ]
  },
  {
   "cell_type": "markdown",
   "id": "f519b4c7-6641-438f-bd26-cfa643b44ae4",
   "metadata": {},
   "source": [
    "14. What are some of the benefits of the kNN algorithm ?\n"
   ]
  },
  {
   "cell_type": "markdown",
   "id": "cb936ec0-ef68-454d-a14c-be2a214721b9",
   "metadata": {},
   "source": [
    "Some Advantages of KNN are:\n",
    "    \n",
    "    Quick calculaation time \n",
    "    \n",
    "    simple algorithium -to interpret\n",
    "    \n",
    "    verstile-useful for regression and classification\n",
    "    \n",
    "    high accuracy-you do need to compare with better-supervise learning models."
   ]
  },
  {
   "cell_type": "markdown",
   "id": "f4fad32d-278c-442f-a98d-10939ba21afb",
   "metadata": {},
   "source": [
    "15. What are some of the kNN algorithm's drawbacks ?"
   ]
  },
  {
   "cell_type": "markdown",
   "id": "9d18deac-6cf4-469c-afde-f2ecbb236def",
   "metadata": {},
   "source": [
    "Some Disadantages of KNN are:\n",
    "    \n",
    "    Accuracy depends on the quality of the data.\n",
    "    with large data, the prediction stage might be slow.\n",
    "    sensitive to the scale of the data and irrelevat features.\n",
    "    Reqired high memory-need to store all of the training data.\n",
    "    Given that it stores all of the training, it can be computationally expensive."
   ]
  },
  {
   "cell_type": "markdown",
   "id": "677c075d-15c6-469e-bd3b-a7cd153caf83",
   "metadata": {},
   "source": [
    "16. Explain the decision tree algorithm in a few words ?\n"
   ]
  },
  {
   "cell_type": "markdown",
   "id": "8f700a42-9abd-4be0-8ee0-6682dab3bbbc",
   "metadata": {},
   "source": [
    "A decision tree is a graphical representation of all the possible solution to a decision based on cretain condition.\n",
    "Tree models where the target variable can take a finite set of values are called classification trees and target variable \n",
    "ca take continuos values (numbers) are called regression trees."
   ]
  },
  {
   "cell_type": "markdown",
   "id": "d12d52dc-59af-4828-80aa-448e2aa9ab10",
   "metadata": {},
   "source": [
    "17. What is the difference between a node and a leaf in a decision tree ?\n"
   ]
  },
  {
   "cell_type": "markdown",
   "id": "c5f5b4a0-fc6c-4cbf-b280-62778f6bad02",
   "metadata": {},
   "source": [
    "A decision tree is a flowchart-like structure in which each internal node represents a \"test\" on an attribute \n",
    "(e.g. whether a coin flip comes up heads or tails), each branch represents the outcome of the test, and each leaf node\n",
    "represents a clas label (decision taken after computing all attributes)."
   ]
  },
  {
   "cell_type": "markdown",
   "id": "54cca5fb-f7c0-4a29-96be-7eef7a66adb8",
   "metadata": {},
   "source": [
    "18. What is a decision tree's entropy ?\n"
   ]
  },
  {
   "cell_type": "markdown",
   "id": "3f871af0-9a6f-4233-8891-d9e21575980d",
   "metadata": {},
   "source": [
    "Entropy helps us to build an appropriate decision tree for selecting the best splitter.Entropy can be defined as\n",
    "a measure of the purity of the sub split.Entropy always lies between 0 and 1. The entropy of any split can be calculate\n",
    "by this formula."
   ]
  },
  {
   "cell_type": "markdown",
   "id": "acf5ad1f-6f25-4f88-84e5-dee2b6f6c74d",
   "metadata": {},
   "source": [
    "19. In a decision tree, define knowledge gain ?\n"
   ]
  },
  {
   "cell_type": "markdown",
   "id": "4b3155ed-e095-4b64-a499-4c877f6a8fde",
   "metadata": {},
   "source": [
    "Information gain is the reduction in entropy or surprise by transforming a dataset and is often used in training decision tree.Information gain is calculated by comparing the entropy of the dataset before and after a transformation"
   ]
  },
  {
   "cell_type": "markdown",
   "id": "98147d10-8601-4a6c-bb56-45855aaf71b2",
   "metadata": {},
   "source": [
    "20. Choose three advantages of the decision tree approach and write them down ?\n"
   ]
  },
  {
   "cell_type": "markdown",
   "id": "7bc2dc50-c28a-4744-87ea-0cf50924ad4b",
   "metadata": {},
   "source": [
    "Advantages of decision trees :\n",
    "    \n",
    "    Easy to read and intrepret. One of the advantages of decision trees is that their output are easy to read interpret     without requiring statistical knowledge.\n",
    "   \n",
    "    Easy to prepare.\n",
    "   \n",
    "    Less data cleaning required."
   ]
  },
  {
   "cell_type": "markdown",
   "id": "2643d9eb-f710-48ce-b72a-727f85e58748",
   "metadata": {},
   "source": [
    "21. Make a list of three flaws in the decision tree process ?\n"
   ]
  },
  {
   "cell_type": "markdown",
   "id": "716e5b18-02cc-41f6-95a0-c396ab74d663",
   "metadata": {},
   "source": [
    "Issues in decision tree learning :\n",
    "    \n",
    "    Overfitting the data.\n",
    "    \n",
    "    Guarding against bad attribute choices.\n",
    "    \n",
    "    Handling contineous valued attributes.\n",
    "    \n",
    "    Handling missing attribute values.\n",
    "    \n",
    "    Handling attributes with different costs."
   ]
  },
  {
   "cell_type": "markdown",
   "id": "974ca544-22c4-4072-bc76-ea4823870e6a",
   "metadata": {},
   "source": [
    "22. Briefly describe the random forest model ?\n"
   ]
  },
  {
   "cell_type": "markdown",
   "id": "2f7a9bd5-ef3d-4833-a05d-1ea779e1080e",
   "metadata": {},
   "source": [
    "The random forest is a classification algorithum consisting of many decision trees. It used bagging and feature \n",
    "randomness when building each indicidual tree to try to create an uncorrelated forest of trees whose prediction by \n",
    "committee is more accurate than that of any individual tree."
   ]
  },
  {
   "cell_type": "code",
   "execution_count": null,
   "id": "1243756e-5c7e-40d2-bccc-e0444b44e748",
   "metadata": {},
   "outputs": [],
   "source": []
  },
  {
   "cell_type": "code",
   "execution_count": null,
   "id": "b38cf79e-ee31-408b-9b8e-7c42a77a0368",
   "metadata": {},
   "outputs": [],
   "source": []
  },
  {
   "cell_type": "code",
   "execution_count": null,
   "id": "d1d02761-e3bb-4f87-8e4a-e342e979042e",
   "metadata": {},
   "outputs": [],
   "source": []
  },
  {
   "cell_type": "code",
   "execution_count": null,
   "id": "8cf07d22-0416-406a-9378-6ac57f919bba",
   "metadata": {},
   "outputs": [],
   "source": []
  },
  {
   "cell_type": "code",
   "execution_count": null,
   "id": "479ab3bc-db9d-47fd-9098-af9ae4eaa12d",
   "metadata": {},
   "outputs": [],
   "source": []
  },
  {
   "cell_type": "code",
   "execution_count": null,
   "id": "1ef45ac7-a248-40b5-bf90-0ffe3ed33cc6",
   "metadata": {},
   "outputs": [],
   "source": []
  },
  {
   "cell_type": "code",
   "execution_count": null,
   "id": "4757b96c-98f6-4822-81eb-912786742a7e",
   "metadata": {},
   "outputs": [],
   "source": []
  },
  {
   "cell_type": "code",
   "execution_count": null,
   "id": "160ea446-f4c6-42f7-b812-01484bf36724",
   "metadata": {},
   "outputs": [],
   "source": []
  }
 ],
 "metadata": {
  "kernelspec": {
   "display_name": "Python 3 (ipykernel)",
   "language": "python",
   "name": "python3"
  },
  "language_info": {
   "codemirror_mode": {
    "name": "ipython",
    "version": 3
   },
   "file_extension": ".py",
   "mimetype": "text/x-python",
   "name": "python",
   "nbconvert_exporter": "python",
   "pygments_lexer": "ipython3",
   "version": "3.9.12"
  }
 },
 "nbformat": 4,
 "nbformat_minor": 5
}
