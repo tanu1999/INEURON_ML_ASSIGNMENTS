{
 "cells": [
  {
   "cell_type": "markdown",
   "id": "35b3fda0-50f3-48f8-a01f-353bcf6abe6b",
   "metadata": {},
   "source": [
    "1. Is there any way to combine five different models that have all been trained on the same training data and have all achieved 95 percent precision? If so, how can you go about doing it? If not, what is the reason ?\n"
   ]
  },
  {
   "cell_type": "markdown",
   "id": "7f655cff-a52e-4999-9258-95d31145f615",
   "metadata": {},
   "source": [
    "Hybrid Model: A technique that combines two or more different machine learning models in some way.But we can't \n",
    "get 95 percent precision as all other models give different precision rate accuracy is differend."
   ]
  },
  {
   "cell_type": "markdown",
   "id": "a46e8354-6f39-4eab-89a3-404032067f80",
   "metadata": {},
   "source": [
    "2. What's the difference between hard voting classifiers and soft voting classifiers ?\n"
   ]
  },
  {
   "cell_type": "markdown",
   "id": "f9bd01b0-3143-40ec-868f-25a7a6502335",
   "metadata": {},
   "source": [
    "In hard voting (also known as majority voting),every individual classifier votes for a class, and the majority \n",
    "wins.In statistical terms, The predicted target label of the ensemble is the mode of the distribution of individually\n",
    "predicted labels.\n",
    "\n",
    "In soft voting, every individual classifier provides a probability value that a specific data points belongs to a \n",
    "particular target class.The predictions are weighted by the classifier's important and summed up.then the target \n",
    "label with the greatest sum of weighted probabilities wins the vote."
   ]
  },
  {
   "cell_type": "markdown",
   "id": "912d6adc-7c81-4b90-a637-9b108446a3d6",
   "metadata": {},
   "source": [
    "3. Is it possible to distribute a bagging ensemble's training through several servers to speed up the process? Pasting ensembles, boosting ensembles, Random Forests, and stacking ensembles are all options ?\n"
   ]
  },
  {
   "cell_type": "markdown",
   "id": "0d2b081d-43f8-4847-94e8-686f46ee7b96",
   "metadata": {},
   "source": [
    "When sampling is performed without replacement,It is called pasting.In other words,both approaches are \n",
    "similar.In both cases you are sampling the training data to bulid multiple instances of a classifier.\n",
    "\n",
    "Boosting is a general ensemble method that creates a strong classifier from a number of weak classifiers.This is done \n",
    "by building a model from the trained data,Then creating a second model that attempts to correct the erroes from the \n",
    "first model.It is the best starting point for understanding boosting."
   ]
  },
  {
   "cell_type": "markdown",
   "id": "f89d99a7-b076-4f65-8e4b-84c3bf7fe427",
   "metadata": {},
   "source": [
    "4. What is the advantage of evaluating out of the bag ?\n"
   ]
  },
  {
   "cell_type": "markdown",
   "id": "aa09afac-4261-4f7f-bcea-f64b0d3f4512",
   "metadata": {},
   "source": [
    "The advantage of the OOB method is that it requied less computation and allows one to test the model as it is \n",
    "being trained."
   ]
  },
  {
   "cell_type": "markdown",
   "id": "d829be9d-0a34-4dd4-89a3-a42be636227d",
   "metadata": {},
   "source": [
    "5. What distinguishes Extra-Trees from ordinary Random Forests? What good would this extra randomness do? Is it true that Extra-Tree Random Forests are slower or faster than normal Random Forests ?\n"
   ]
  },
  {
   "cell_type": "markdown",
   "id": "b43bce0c-3d05-478d-8bcc-608ded095587",
   "metadata": {},
   "source": [
    "Random forest uses bootstrap replicas, that is to say, it subsamples the input data with replacement, whereas\n",
    "Extra Tree use the whole origianal sample.This may increase variance because bootstrapping makes it more diversified.\n",
    "\n",
    "Random forest adds additional randomness to the model, while growing the trees.Instead of searching for the most \n",
    "important feature while splitting a node,it searches for the best feature among a random subset of features.This\n",
    "results in a wide diversity that generally results in a better model.Extra Trees is much faster.\n",
    "\n",
    "This is because instead of looking for the optimal split at each node it does it randomly."
   ]
  },
  {
   "cell_type": "markdown",
   "id": "09cc0cda-80de-4d26-913f-9f507dedebb4",
   "metadata": {},
   "source": [
    "6. Which hyperparameters and how do you tweak if your AdaBoost ensemble underfits the training data ?\n"
   ]
  },
  {
   "cell_type": "markdown",
   "id": "36629820-77d1-4938-bb40-5c35bb6cc553",
   "metadata": {},
   "source": [
    "If your AdaBoost ensemble underfits the training data, you can try incresing the number of estimators or reducing \n",
    "the regularization hyperparameters of the based estimator.You may also try slightly increasing the learning rate."
   ]
  },
  {
   "cell_type": "markdown",
   "id": "9393ef05-df16-4381-8888-ea1435a01537",
   "metadata": {},
   "source": [
    "7. Should you raise or decrease the learning rate if your Gradient Boosting ensemble overfits the training set ?\n"
   ]
  },
  {
   "cell_type": "markdown",
   "id": "06268e63-7b55-445f-b7f4-c322f8598b04",
   "metadata": {},
   "source": [
    "If your Gradient Boosting ensemble overfits the training set, you should try decreasing the learning rate.You \n",
    "could also use early stooping to find the right number of predictors (you probably have too many)\n"
   ]
  },
  {
   "cell_type": "code",
   "execution_count": null,
   "id": "7fc07338-7543-4510-bc09-482f35e2c45d",
   "metadata": {},
   "outputs": [],
   "source": []
  }
 ],
 "metadata": {
  "kernelspec": {
   "display_name": "Python 3 (ipykernel)",
   "language": "python",
   "name": "python3"
  },
  "language_info": {
   "codemirror_mode": {
    "name": "ipython",
    "version": 3
   },
   "file_extension": ".py",
   "mimetype": "text/x-python",
   "name": "python",
   "nbconvert_exporter": "python",
   "pygments_lexer": "ipython3",
   "version": "3.9.12"
  }
 },
 "nbformat": 4,
 "nbformat_minor": 5
}
