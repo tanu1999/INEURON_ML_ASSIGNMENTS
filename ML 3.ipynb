{
 "cells": [
  {
   "cell_type": "markdown",
   "id": "72c29d14-9886-4445-94c1-b579fb8be6a5",
   "metadata": {},
   "source": [
    "1.Explain the term machine learning, and how does it work? Explain two machine learning\n",
    "applications in the business world. What are some of the ethical concerns that machine learning\n",
    "applications could raise?\n"
   ]
  },
  {
   "cell_type": "markdown",
   "id": "551e1ed3-a2f3-489a-89fa-99e62ee9002c",
   "metadata": {},
   "source": [
    "Machine Learning is a form of artificial intelligence (AI) that teaches computers to think in a similar way to how \n",
    "humans do: Learning and improving upto past experience.It works by exploration data and identifying patterns,and \n",
    "involves minimal human intervention.\n",
    "\n",
    "There are various applications in business World:\n",
    "\n",
    "Real-Time chatbot agents.\n",
    "\n",
    "Decision support.\n",
    "\n",
    "Customer recommendation engines.\n",
    "\n",
    "Customer churn modeling.\n",
    "\n",
    "Dynamic pricing tactics.\n",
    "\n",
    "Market research and customer segmentation.\n",
    "\n",
    "Fraud detection.\n",
    "\n",
    "Also there are some of the ethical concerns that ML applictions could raise: AI prsents three major areas of \n",
    "ethical concern for society: Privacy and survillance,bias and discrimination, and perhaps the deepest,most \n",
    "difficult philosophical question of the era,the role of human judgement."
   ]
  },
  {
   "cell_type": "markdown",
   "id": "303e7c8b-d270-4d87-9463-36f1eaf4b836",
   "metadata": {},
   "source": [
    "2. Describe the process of human learning:\n",
    "\n",
    "i. Under the supervision of experts\n",
    "\n",
    "ii. With the assistance of experts in an indirect manner\n",
    "\n",
    "iii. Self-education\n",
    "\n"
   ]
  },
  {
   "cell_type": "markdown",
   "id": "1215e078-8cb8-40c6-8bda-dc215e454a2f",
   "metadata": {},
   "source": [
    "The process of human learning are described below:\n",
    "Under the supervision of experts:Human-guided machine learning is a process whereby subject matter experts accelarate\n",
    "the learning process by teaching the technology in real-time.For example,if the machine learning model come across a\n",
    "piece of data it is uncertain about, a human can be asked to weight in and give feedback.The model then learns from \n",
    "this input,and uses it to make a more accurate prediction  the next time.Human-guided machine learning works from the \n",
    "bottom up by first using algorithums to conduct the heavy lifting of identitying relationships within the data, and \n",
    "engagging human when necessary for training or validate concept learning.\n",
    "\n",
    "With the human assistance of experts in an indirect manner:Well the process of an algorithum learning from the training \n",
    "dataset can be throught of as teacher supervising the learning process. We know the correct answers, the algorithum \n",
    "iteratively makes predictions on the training data and is corrected by teacher.Learing stops when the algorithum achieves\n",
    "an acceptable level of performance Operant Conditioning."
   ]
  },
  {
   "cell_type": "markdown",
   "id": "054cbd41-ef27-4c71-b033-00447ad5922a",
   "metadata": {},
   "source": [
    "3. Provide a few examples of various types of machine learning.\n",
    "\n"
   ]
  },
  {
   "cell_type": "markdown",
   "id": "4567deb9-9976-4de3-8941-6d7a64519f21",
   "metadata": {},
   "source": [
    "Examples of various types of Machine learning techniques are:\n",
    "\n",
    "Example of supervised Learning is text classification problems.In this set of problems, the goal is to predict the \n",
    "class label of a given piece of text.One particularly popular topic in text classification is to predict the \n",
    "sentiment of a piece of text,like a tweet or a product review,Image segmentation,Medical Diagnosis\n",
    "\n",
    "Example of unsupervised Leaerning :Fraud detection,Malware detection,Anomaly detection,Clustering Analysis,\n",
    "Identification of human error during data entry Conducting accurate basket analysis,etc.\n",
    "\n",
    "Example of reinforcement Learning : Application in self-driving cars,Industry automation: learning-based robots are \n",
    "used to perform various tasks."
   ]
  },
  {
   "cell_type": "markdown",
   "id": "69530a52-bd06-4625-94ff-0905a9da98c8",
   "metadata": {},
   "source": [
    "4. Examine the various forms of machine learning.\n",
    "\n"
   ]
  },
  {
   "cell_type": "markdown",
   "id": "927197e3-a145-4898-9e5f-e8d4b3b9e802",
   "metadata": {},
   "source": [
    "There are three types of machine learning Techniques:\n",
    "\n",
    "Supervised learning \n",
    "\n",
    "Unsupervised learning \n",
    "\n",
    "Reinforcement Learning.\n"
   ]
  },
  {
   "cell_type": "markdown",
   "id": "9d4aa917-f41e-43c5-b403-6b14fc023494",
   "metadata": {},
   "source": [
    "5. Can you explain what a well-posed learning problem is? Explain the main characteristics that must\n",
    "be present to identify a learning problem properly.\n",
    "\n"
   ]
  },
  {
   "cell_type": "markdown",
   "id": "05419c35-d994-425c-b9fc-c69eb8aaf717",
   "metadata": {},
   "source": [
    "Well posed Learning Problem -A computer program is said to learn from experiance E in context to some task T and \n",
    "some performance measure P,if its performance on T,as was measured by P, upgrades with experience E.Any problem can \n",
    "be segregated as well-posed learning problem if it has three trials-Task,Performance and Experience."
   ]
  },
  {
   "cell_type": "markdown",
   "id": "e1aad023-3f53-4e21-8b6c-f6e418f72ad9",
   "metadata": {},
   "source": [
    "6. Is machine learning capable of solving all problems? Give a detailed explanation of your answer.\n",
    "\n"
   ]
  },
  {
   "cell_type": "markdown",
   "id": "26ccec48-5cd3-4393-991e-260a06312425",
   "metadata": {},
   "source": [
    "Machine Learning probabily can run into all problems for solving but lays down with some concerns which are:\n",
    "\n",
    "Ethics :The idea of trusting data and algorithum more than our own judgementhas its pros and cons.Obviously,we\n",
    "benifit from these algorithum, otherwise,we wouldn't be using them in the first place.These algorithum allows us to \n",
    "automate processes by making informed judgement using available data.sometimes,however,this means replacing \n",
    "someone's job with an algorithum, which comes with ethical ramifications.\n",
    "\n",
    "Deterministic Problem :Machine learning is stochastic,not deterministic.A natural network does not understand \n",
    "Newton's second law,or that density cannot be negative -there are no physical constrains.\n",
    "\n",
    "Lack of data :Many machine learning algorithum require large amounts of data before they begin to give useful results."
   ]
  },
  {
   "cell_type": "markdown",
   "id": "e1177212-7ac6-46b3-9b85-dd6d24e1ac11",
   "metadata": {},
   "source": [
    "7. What are the various methods and technologies for solving machine learning problems? Any two\n",
    "of them should be defined in detail.\n",
    "\n"
   ]
  },
  {
   "cell_type": "markdown",
   "id": "10eb4461-5f4b-4007-b871-3a98d83edda7",
   "metadata": {},
   "source": [
    ": The Various Technologies Used in Machine Learning Problems are: Scikit Learn, Pytorch, Tensorflow, Keras, Python.\n",
    "\n",
    "Scikit Learn: Scikit-learn (Sklearn) is the most useful and robust library for machine learning in Python. It provides a selection of efficient tools for machine learning and statistical modeling including classification, Regression, clustering and dimensionality reduction via a consistence interface in Python.\n",
    "Tensorflow: It is a open source artificial intelligence library, Using data flow graphs to build models. It allows developers to create large-scale neural networks with many layers. TensorFlow is mainly used for: Classification, Perception, Understanding, Discovering, Prediction and Creation.\n",
    "The Various Methods used in Machine Learning Problems are: Regression, Classification, Clustering, Dimensionality Reductio, Ensemble Methods, Neural Network, Deep Learning, Transfer Learning, Reinforcement Learning, Natural Language Processing, Word Embeddings.\n",
    "\n",
    "Regression methods fall within the category of supervised ML. They help to predict or explain a particular numerical value based on a set of prior data, for example predicting the price of a property based on previous pricing data for similar properties.\n",
    "\n",
    "Another class of supervised ML, classification methods predict or explain a class value. For example, they can help predict whether or not an online customer will buy a product. The output can be yes or no, buyer or not buyer. But classification methods aren’t limited to two classes. For example, a classification method could help to assess whether a given image contains a car or a truck. In this case, the output will be 3 different values:\n",
    "\n",
    "The image contains a car\n",
    "The image contains a truck\n",
    "The image contains neither a car nor a truck."
   ]
  },
  {
   "cell_type": "markdown",
   "id": "04837a1b-4c4d-4c88-a99d-e1fb5e7f7b24",
   "metadata": {},
   "source": [
    "8. Can you explain the various forms of supervised learning? Explain each one with an example\n",
    "application.\n",
    "\n"
   ]
  },
  {
   "cell_type": "markdown",
   "id": "5332cd1b-5488-4be6-a3fb-2a1bde7cc3b5",
   "metadata": {},
   "source": [
    "The various forms of supervised learning are explained in detail below:\n",
    "    \n",
    "1.Regression:In regression,a single output value is produced using trained data.For example,regression can help\n",
    "predict the price of a house based in its locality,size ,etc\n",
    "\n",
    "2.Classification :It involves grouping the data into classes.eg If you are thinking of extention credit to a person,\n",
    "you can use classification to determined wheather or not a person would be a loan defaulter.\n",
    "\n",
    "3.Naive bayesian Model: The Bayesian model of classification is used for large finite datasets.It is a method of \n",
    "assigning class labels using a direct acyclic graph.\n",
    "\n",
    "4.Decision Tree:A decision tree is a Flowchart-like model that contains conditional control statements,comprising \n",
    "decision and their probable consequences.The output related to the labelling of unforeseen data."
   ]
  },
  {
   "cell_type": "markdown",
   "id": "06f78edf-f580-4ac3-bbd5-008ef5227f81",
   "metadata": {},
   "source": [
    "9. What is the difference between supervised and unsupervised learning? With a sample application\n",
    "in each region, explain the differences.\n",
    "\n"
   ]
  },
  {
   "cell_type": "markdown",
   "id": "eb8a057b-a99d-4a69-8065-79d10be65996",
   "metadata": {},
   "source": [
    "Supervised learning algorithums are trained using labeled data.Unsupervised learning algorithum are trained using \n",
    "unlabeled data.In unsupervised learning,only input data is provided to the model.\n",
    "\n",
    "Examples:\n",
    "\n",
    "Supervised Learning :classification and Regression.\n",
    "\n",
    "Unsupervised Learning :Clustering"
   ]
  },
  {
   "cell_type": "markdown",
   "id": "5134e21e-86a6-4f32-8089-136fc3e408c6",
   "metadata": {},
   "source": [
    "10. Describe the machine learning process in depth.\n",
    "\n",
    "a. Make brief notes on any two of the following:\n",
    "\n",
    "MATLAB is one of the most widely used programming languages.\n",
    "\n",
    "ii. Deep learning applications in healthcare\n",
    "\n",
    "iii. Study of the market basket\n",
    "\n",
    "iv. Linear regression (simple)\n",
    "\n"
   ]
  },
  {
   "cell_type": "markdown",
   "id": "7b7ad9b0-6cff-4a5e-84c3-ffb03938bf63",
   "metadata": {},
   "source": [
    "Ans: Imagine a dataset as a table, where the rows are each observation (aka measurement, data point, etc), and the columns for each observation represent the features of that observation and their values.At the outset of a machine learning project, a dataset is usually split into two or three subsets. The minimum subsets are the training and test datasets, and often an optional third validation dataset is created as well. Once these data subsets are created from the primary dataset, a predictive model or classifier is trained using the training data, and then the model’s predictive accuracy is determined using the test data. As, machine learning leverages algorithms to automatically model and find patternsin data, usually with the goal of predicting some target output or response. These algorithms are heavily based on statistics and mathematical optimization. Optimization is the process of finding the smallest or largest value (minima or maxima) of a function, often referred to as a loss, or cost function in the minimization case. One of the most popular optimization algorithms used in machine learning is called gradient descent, and another is known as the the normal equation. In a nutshell, machine learning is all about automatically learning a highly accurate predictive or classifier model, or finding unknown patterns in data, by leveraging learning algorithms and optimization techniques.\n",
    "\n",
    "Deep learning applications in healthcare: Deep learning provides the healthcare industry with the ability to analyze data at exceptional speeds without compromising on accuracy. It’s not machine learning, nor is it AI, it’s an elegant blend of both that uses a layered algorithmic architecture to sift through data at an astonishing rate. The benefits of deep learning in healthcare are plentiful – fast, efficient, accurate – but they don’t stop there. Even more benefits lie within the neural networks formed by multiple layers of AI and ML and their ability to learn. Yes, the secret to deep learning’s success is in the name – learning.\n",
    "\n",
    "Linear regression (simple): Linear Regression models describe the relationship between variables by fitting a line to the observed data. Linear regression models use a straight line, while logistic and nonlinear regression models use a curved line. Regression allows you to estimate how a dependent variable changes as the independent variable(s) change"
   ]
  },
  {
   "cell_type": "markdown",
   "id": "d79c6ea8-da24-4882-b543-619fc91c4276",
   "metadata": {},
   "source": [
    "11. Make a comparison between:-\n",
    "\n",
    "  - Generalization and abstraction\n",
    "\n",
    "  - Learning that is guided and unsupervised\n",
    "\n",
    "  - Regression and classification"
   ]
  },
  {
   "cell_type": "markdown",
   "id": "c22bfb89-8bd9-479b-aae0-22202d8cf245",
   "metadata": {},
   "source": [
    "The differnce between among the given concepts is:\n",
    "    \n",
    "Generalization and abstraction: Abstraction is the process of removing details of objects.And Generalization, then,\n",
    "is the formulation of general concepts from specific instance by abstraction common properties.A concrete object\n",
    "can be looked at as a \"subset\" of a more generalized object.\n",
    "\n",
    "Learning that is guided and Unsupervised: Supervised learning is the method that trains machines to use data that is \n",
    "well classified and labeled.Whereas Unsupervised learning,on the other hand,is the method that trains machines to \n",
    "use data that is neither classified nor labeled.\n",
    "\n",
    "Regression and classification :\n",
    "\n",
    "Classification models- Classification models are used for problems where the output variable can be categorized,\n",
    "such as yes or no ,or pass or fail.Classification models are used to predict the category of the data.Real life \n",
    "example include spam detection, sentiment analysis,scorecard prediction of exams,etc.\n",
    "\n",
    "Regression models -Regression models are used for problem where the output variable is a real value such as a\n",
    "unique number,dollers,salery,weight or pressure ,for example.It is most often used to predict numerical values\n",
    "based on previous data observations.Some of the more familiar regression algorithum include linear regression,\n",
    "logistic regresssion,polynomial regression,and ridge regression."
   ]
  },
  {
   "cell_type": "code",
   "execution_count": null,
   "id": "235db2ee-867c-491b-be93-1a306643b480",
   "metadata": {},
   "outputs": [],
   "source": []
  }
 ],
 "metadata": {
  "kernelspec": {
   "display_name": "Python 3 (ipykernel)",
   "language": "python",
   "name": "python3"
  },
  "language_info": {
   "codemirror_mode": {
    "name": "ipython",
    "version": 3
   },
   "file_extension": ".py",
   "mimetype": "text/x-python",
   "name": "python",
   "nbconvert_exporter": "python",
   "pygments_lexer": "ipython3",
   "version": "3.9.12"
  }
 },
 "nbformat": 4,
 "nbformat_minor": 5
}
