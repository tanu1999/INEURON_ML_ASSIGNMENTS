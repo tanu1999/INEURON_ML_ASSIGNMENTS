{
 "cells": [
  {
   "cell_type": "markdown",
   "id": "e26dcc6c-b9f9-4c55-a467-63450f3cee5e",
   "metadata": {},
   "source": [
    "1. Using a graph to illustrate slope and intercept, define basic linear regression ?\n"
   ]
  },
  {
   "cell_type": "markdown",
   "id": "4f98a4a2-ae16-4513-9bb6-8161f1ef485d",
   "metadata": {},
   "source": [
    "The equation y=mx+c represents a straight line graphically,where m is its slope/gradient and c its intercept.In this\n",
    "tutorial,you will learn how to plot y=mx+b in python with Matplotlib.\n"
   ]
  },
  {
   "cell_type": "code",
   "execution_count": 2,
   "id": "a9c47a18-aa8e-4ce5-9b81-86a0c084e0b8",
   "metadata": {},
   "outputs": [
    {
     "data": {
      "image/png": "[encoded data removed]",
      "text/plain": [
       "<Figure size 640x480 with 1 Axes>"
      ]
     },
     "metadata": {},
     "output_type": "display_data"
    },
    {
     "data": {
      "text/plain": [
       "None"
      ]
     },
     "metadata": {},
     "output_type": "display_data"
    }
   ],
   "source": [
    "import matplotlib.pyplot as plt\n",
    "import numpy as np\n",
    "x=np.linspace(-5,5,100)\n",
    "y=2*x+1\n",
    "plt.plot(x,y, \"-r\",label=\"y=2x+1\")\n",
    "plt.xlabel(\"x\", color=\"#1C2833\")\n",
    "plt.ylabel('y', color='#1C2833')\n",
    "plt.legend(loc='upper left')\n",
    "plt.grid()\n",
    "display(plt.show())"
   ]
  },
  {
   "cell_type": "markdown",
   "id": "d418fe89-2593-4cde-be02-65a66c958b79",
   "metadata": {},
   "source": [
    "2. In a graph, explain the terms rise, run, and slope ?\n"
   ]
  },
  {
   "cell_type": "markdown",
   "id": "f272d8c3-1afb-419c-b9e2-407b35860558",
   "metadata": {},
   "source": [
    "The slope of a line measure the steepness of the line.Most of you are probably familiar with associating slope\n",
    "with \"Rise Over Run\".Rise means how many units you move up or down from point to point. On the graph that would be a \n",
    "change in the y values.Run means how far left or right you move from point to point "
   ]
  },
  {
   "cell_type": "markdown",
   "id": "a42b1d83-f45c-4ea6-9086-98598dd3b710",
   "metadata": {},
   "source": [
    "3. Use a graph to demonstrate slope, linear positive slope, and linear negative slope, as well as the different conditions that contribute to slope ?\n"
   ]
  },
  {
   "cell_type": "markdown",
   "id": "2f362e7b-1a05-405b-bb67-fefbc0f64fec",
   "metadata": {},
   "source": [
    "Ans: The steepness of a hill is called a slope. The same goes for the steepness of a line. The slope is defined as the ratio of the vertical change between two points, the rise, to the horizontal change between the same two points, the run.\n",
    "\n",
    "Slope=Rise/Run=ChangeinY/changeinX\n",
    "\n",
    "The slope of a line is usually represented by the letter m. (x1, y1) represents the first point whereas (x2, y2) represents the second point.\n",
    "\n",
    "M=Y2−Y1/X2−X1\n",
    "\n",
    "It is important to keep the x-and y-coordinates in the same order in both the numerator and the denominator otherwise you will get the wrong slope."
   ]
  },
  {
   "cell_type": "markdown",
   "id": "52159653-f37d-4ebf-8058-79cec283c352",
   "metadata": {},
   "source": [
    "4. Use a graph to demonstrate curve linear negative slope and curve linear positive slope ?\n"
   ]
  },
  {
   "cell_type": "markdown",
   "id": "b454ccd4-32fc-4b8b-baf6-227ec2ebd648",
   "metadata": {},
   "source": [
    "Image result for a graph to demonstrate curve linear negative slope and curve linear positive slope.If the signs\n",
    "are different then the answer is negative.If the slope is negative you can plot your next point by going down and \n",
    "right OP up and left.f the slope is positive you can plot your next point by going up and right OR down and left."
   ]
  },
  {
   "cell_type": "markdown",
   "id": "25748d59-fc20-4135-ad71-e81eb15fe417",
   "metadata": {},
   "source": [
    "5. Use a graph to show the maximum and low points of curves ?\n"
   ]
  },
  {
   "cell_type": "markdown",
   "id": "b993946a-0c0c-4545-9365-4cc23a1a993c",
   "metadata": {},
   "source": [
    "To find the maximum/mininmum of a curve you muct first differentiate the function and then equate it to zero.This\n",
    "gives you one coordinate.To find the other you must resubstiute the one already found into the original function."
   ]
  },
  {
   "cell_type": "markdown",
   "id": "75eb604f-4b1c-441e-9a34-cf03b23df9f6",
   "metadata": {},
   "source": [
    "6. Use the formulas for a and b to explain ordinary least squares ?\n"
   ]
  },
  {
   "cell_type": "markdown",
   "id": "7eaf7538-e21a-4df1-90e1-b8c0e1c62250",
   "metadata": {},
   "source": [
    "This best line is the Least Squares Regression Line (abbreviated as LSRL). This is true where ^y is the predicted \n",
    "y-value given x,a is the y intercept,b and is the slope.For every x-value, the Least Squares Regression Line makes a\n",
    "predicted y-value that is close  to the observed y-value,but usually slightly off."
   ]
  },
  {
   "cell_type": "markdown",
   "id": "20476dd5-e71f-4cab-a898-92d3bb3c6d65",
   "metadata": {},
   "source": [
    "7. Provide a step-by-step explanation of the OLS algorithm ?\n"
   ]
  },
  {
   "cell_type": "markdown",
   "id": "e447112e-e753-4b5a-b679-924d05d22ff7",
   "metadata": {},
   "source": [
    "Ordinary Least Square Method:\n",
    "    \n",
    "    Set a different between dependent variable and its estimation:\n",
    "        \n",
    "    square the difference\n",
    "    \n",
    "    Take summation for all data.\n",
    "    \n",
    "    To get the parameters that make the sum of square difference become minimum,take partial derivative for each parameter and equate it with zero."
   ]
  },
  {
   "cell_type": "markdown",
   "id": "956fe3fe-d924-4c6a-994a-f7f6563c3681",
   "metadata": {},
   "source": [
    "8. What is the regression's standard error? To represent the same, make a graph ?\n"
   ]
  },
  {
   "cell_type": "markdown",
   "id": "177eecda-53c5-4acc-bcd5-613fbff1cb91",
   "metadata": {},
   "source": [
    "The standard error of the regression(S),also known as the standard error of the estimate,represents the average \n",
    "distance that the observed values fall from the regression line.Conveniently,it tells you how wrong the regression \n",
    "model is on average using the unit of the response variable."
   ]
  },
  {
   "cell_type": "markdown",
   "id": "55773c87-095f-4560-87e1-516e4da2ec4f",
   "metadata": {},
   "source": [
    "9. Provide an example of multiple linear regression ?\n"
   ]
  },
  {
   "cell_type": "markdown",
   "id": "95fe9eb8-bd07-491a-adb6-79b76ae2c624",
   "metadata": {},
   "source": [
    "Ans: Multiple Linear Regression is one of the important regression algorithms which models the linear relationship between a single dependent continuous variable and more than one independent variable. Example: Prediction of CO2 emission based on engine size and number of cylinders in a car."
   ]
  },
  {
   "cell_type": "markdown",
   "id": "745a9419-8e30-450f-b4b7-ccf1c5a723fc",
   "metadata": {},
   "source": [
    "\n",
    "\n",
    "10. Describe the regression analysis assumptions and the BLUE principle ?\n"
   ]
  },
  {
   "cell_type": "markdown",
   "id": "4f258f8f-6d2f-40a9-979f-ca4f40b92893",
   "metadata": {},
   "source": [
    "There are four assumptions associated with a linear regression model:\n",
    "\n",
    "Linearity: The relationship between X and the mean of Y is linear.\n",
    "\n",
    "Homoscedasticity: The variance of residual is the same for any value of X.\n",
    "\n",
    "Independence: Observations are indpendent of each other.\n",
    "\n",
    "Blue : Is an acronym for the following : Best Linear Unbiased Estimator.In this context,the defination of \"best\" refers to the minimum variance or the narowest sampling distribution."
   ]
  },
  {
   "cell_type": "markdown",
   "id": "685965dd-fd03-478c-b654-440d18fe23a3",
   "metadata": {},
   "source": [
    "11. Describe two major issues with regression analysis ?\n"
   ]
  },
  {
   "cell_type": "markdown",
   "id": "2f4d5d58-8aa7-4ce8-a06b-086655b256de",
   "metadata": {},
   "source": [
    "It involves very lengthy and complicated procedure of caluculations and analysis.It cannot be used in case of\n",
    "quantitative phenomenon viz.honesty,crime etc.\n",
    "\n",
    "The overall idea of regression is to examine two things:\n",
    "\n",
    "Does a set of predictor variables do a good job in predicting an outcome (dependent) variable?\n",
    "\n",
    "Which variables in particlar are signinficant predictors of the outcome variable, and in what way do they-indicated by\n",
    "the magnitude and sign of the beta"
   ]
  },
  {
   "cell_type": "markdown",
   "id": "e59f7288-7919-4fac-beb7-c8daf5a2e6c2",
   "metadata": {},
   "source": [
    "12. How can the linear regression model's accuracy be improved ?\n"
   ]
  },
  {
   "cell_type": "markdown",
   "id": "7a8adaff-921f-4a73-ac54-bdd6467fda1f",
   "metadata": {},
   "source": [
    "Multiple Linear Regression is one of the important regression algorithum which models the linear relationship \n",
    "between a single dependent continuous variable and more than one independent variable.Example: Prediction of CO2\n",
    "emission based on engine size and number of cylinder in a car."
   ]
  },
  {
   "cell_type": "markdown",
   "id": "9b4a1d5b-cedc-4a98-a458-e0ac6a9003d5",
   "metadata": {},
   "source": [
    "13. Using an example, describe the polynomial regression model in detail ?\n"
   ]
  },
  {
   "cell_type": "markdown",
   "id": "44dc53ed-c6a3-4c97-92d3-5c374da97275",
   "metadata": {},
   "source": [
    "In statistics ,polynomial regression is a form of regression analysis in which the relationship  between the \n",
    "independent variable x and the dependent varaible y is modelled as an nth degree polynomial in x.For this reason,\n",
    "polynomial regression is considered to be a special case of multiple linear regression.\n",
    "\n",
    "Polynimial regression is one of the machine learning algorithums used for making predictions.For example,it is widely \n",
    "applied to predict the spread rate of covid-19 and other infectious diseases."
   ]
  },
  {
   "cell_type": "markdown",
   "id": "e226ca9c-a09c-494f-a456-f46ece4ddc6d",
   "metadata": {},
   "source": [
    "\n",
    "14. Provide a detailed explanation of logistic regression ?\n"
   ]
  },
  {
   "cell_type": "markdown",
   "id": "de00c55c-be6a-4d53-b47e-1187a858afcd",
   "metadata": {},
   "source": [
    "Logistic regression is a statistical analysis method used to predice a data value based on prior observations of a\n",
    "data set.Based on historical data about earlier outcomes involving the same input criteria,it then scores new cases on \n",
    "their probability of falling into a particular outcome category."
   ]
  },
  {
   "cell_type": "markdown",
   "id": "a8fa23b9-9a00-42d7-9730-2c5ef9fa8c73",
   "metadata": {},
   "source": [
    "15. What are the logistic regression assumptions ?\n"
   ]
  },
  {
   "cell_type": "markdown",
   "id": "17939f2b-7e64-4126-9f6a-86de797e433f",
   "metadata": {},
   "source": [
    "Basic assumptions that must be met for logistic regression include indpendence of errors ,linearity in the logit \n",
    "for continuous variables,absence of multicollinearity, and lack of stronglt influncential outliers."
   ]
  },
  {
   "cell_type": "markdown",
   "id": "21474450-7952-498d-af6e-be5dec443e36",
   "metadata": {},
   "source": [
    "16. Go through the details of maximum likelihood estimation ?\n"
   ]
  },
  {
   "cell_type": "markdown",
   "id": "df4d1c3e-1d43-479a-afa0-b2996fca053c",
   "metadata": {},
   "source": [
    "Maximum likelihood estimation is a method that determines values for the parameters of the model.The parameter \n",
    "values,are found such that they maximise the likelihood that the process described by the model produced the data\n",
    "that were ,actually observed."
   ]
  },
  {
   "cell_type": "code",
   "execution_count": null,
   "id": "fb07d946-f072-4e4a-8dd6-d0f65f933db6",
   "metadata": {},
   "outputs": [],
   "source": []
  }
 ],
 "metadata": {
  "kernelspec": {
   "display_name": "Python 3 (ipykernel)",
   "language": "python",
   "name": "python3"
  },
  "language_info": {
   "codemirror_mode": {
    "name": "ipython",
    "version": 3
   },
   "file_extension": ".py",
   "mimetype": "text/x-python",
   "name": "python",
   "nbconvert_exporter": "python",
   "pygments_lexer": "ipython3",
   "version": "3.9.12"
  }
 },
 "nbformat": 4,
 "nbformat_minor": 5
}
