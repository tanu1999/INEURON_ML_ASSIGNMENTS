{
 "cells": [
  {
   "cell_type": "markdown",
   "id": "f4d18f59-7975-472c-9844-a5532aeca8b0",
   "metadata": {},
   "source": [
    "1. What are the key tasks involved in getting ready to work with machine learning modeling?\n"
   ]
  },
  {
   "cell_type": "markdown",
   "id": "f0f90666-3721-4644-b0bc-f08d868deab3",
   "metadata": {},
   "source": [
    "The ket tasks involve in getting ready to work with machine learning modeling are:\n",
    "\n",
    "1.Data collection:Defining the problem and assembling a dataset.\n",
    "\n",
    "2.Data preparation: Preparing your data.\n",
    "\n",
    "3.Chossing a Model\n",
    "\n",
    "4.Training the Model:Developing a model that does better than a baseline.\n",
    "\n",
    "5.Evaluating the Model: choosing a measure of success. Deciding on an evaluation protocol.\n",
    "\n",
    "6.Parameter turning:Scaling up: devoloping a model that overfits.regularization your model and turning your parameters.\n",
    "\n",
    "7.Prediction or Inference."
   ]
  },
  {
   "cell_type": "markdown",
   "id": "5347852c-df28-4cce-a0b4-e5d25d1a7448",
   "metadata": {},
   "source": [
    "2. What are the different forms of data used in machine learning? Give a specific example for each of\n",
    "them.\n"
   ]
  },
  {
   "cell_type": "markdown",
   "id": "bcb204a0-bf27-4214-884f-fe6d9bfa816e",
   "metadata": {},
   "source": [
    "Most data can be categorized into 4 basic types from a Machine Learing perspective:Numerical Data,Categorical Data,Time-series Data, and Text data.\n",
    "\n",
    "Numerical Data:\n",
    "\n",
    "Numerical data is any data where data points are exact numbers. Statisticans also might call numerical data,Quantittatve data.This data has meaning as a\n",
    "measurement such as house prices or as a count, such as a number of residential properties in los angeles or how many houses sold in the past year.\n",
    "Numerical data can be characterised by contineous or discrete data.Continious data can assume any value within a range whereas discrete data has distinct\n",
    "values\n",
    "\n",
    "Categorical data :\n",
    "    \n",
    "Categorical data represents characteristics,such as a hockey player's position,team,hometown. Categorical data can take numerical values.For example,maybe\n",
    "we would use 1 for the colour red and 2 for blue.But these numbers don't have a mathematical meaning.that is ,we can't add them together or take the \n",
    "average.\n",
    "\n",
    "Time series data:\n",
    "\n",
    "Time series data is a sequence of number collected at regualar intervals over some period of time.It is very important, espacially in particular field like \n",
    "finance.Time series data has a temporal values attached to it,so this be something like a date or a timestamp that you can look for trends in time.\n",
    "\n",
    "Text:\n",
    "\n",
    "    Text data is basically just words.A lot of the time the first thing that you do with text is your it into numbers using some interesting functions like \n",
    "    the bag of words formulation."
   ]
  },
  {
   "cell_type": "markdown",
   "id": "7a310041-dffc-4d7b-967d-1942eae606cb",
   "metadata": {},
   "source": [
    "3. Distinguish:\n",
    "    \n",
    "\n",
    "    1. Numeric vs. categorical attributes\n",
    "\n",
    "    2. Feature selection vs. dimensionality reduction\n",
    "\n"
   ]
  },
  {
   "cell_type": "raw",
   "id": "a0a8b807-d642-41c6-8083-108e4c378993",
   "metadata": {},
   "source": [
    "The following are the differences between:\n",
    "1.Numeric vs categorical attributes:\n",
    "    * Numerical data are values obtained for quantitative variable,and carries a sense of magnitude related to the context of the variable (hence, they are \n",
    "      always numbers or symbols carrying a numerical value.)\n",
    "    * Categorical data are values obtained for aquantitative variable. categorical data numbers do not carry a sense of magitude.\n",
    "    * Numerical data always belong to either ordinal,radio,or interval type , Whereas categorical data belong to nominal type.---Methods sed to analyse quantitative data are different from used for categorical data, even if the principles are the same al least the application has signinficant differences.\n",
    "    * Numerical data are analysed using statistical methods in descriptive statistics, regression,time series and many\n",
    "    more.For categorical data usually descriptive methods and grapical method are employed.Some non-parametric tests are also used.\n",
    "2.Feature selection vs. dimensionality reduction \n",
    "    * Feature selecion you just select a subset of the orignal feature set,without any manipulation of the data on the other hand.\n",
    "    * Dimensionality reduction is typically choosing a new representaion within which you can describe most but not all of the variance within your data,thereby retaining the retaining the relevant information,while reduction the amount of information necessary to represent it."
   ]
  },
  {
   "cell_type": "markdown",
   "id": "a9363bb8-a072-4d36-9287-aae32aeec1f0",
   "metadata": {},
   "source": [
    "4. Make quick notes on any two of the following:\n",
    "\n",
    "    1. The histogram\n",
    "\n",
    "    2. Use a scatter plot\n",
    "    \n",
    "    3. PCA (Personal Computer Aid)\n",
    "\n"
   ]
  },
  {
   "cell_type": "markdown",
   "id": "7def9ec4-5ce5-45ed-a80e-5c1d23729001",
   "metadata": {},
   "source": [
    "The quick notes on the following three topics is:\n",
    "\n",
    "The histogram: A Histogram is a graphical representaion that organizes a group of the data points into user-specified ranges. Similar in appearance to a bar graph, the histogram condenses a data series into an easily interpreted visual by taking many data points and grouping them into logical ranges or bins.\n",
    "\n",
    "Use a scatter plot: A scatter plot (aka scatter chart, scatter graph) uses dots to represent values for two different numeric variables. The position of each dot on the horizontal and vertical axis indicates values for an individual data point. Scatter plots are used to observe relationships between variables.\n",
    "\n",
    "PCA (Personal Computer Aid): Principal Component  Analysis or PCA is a widely used technique for dimensionality reduction of large data set.Reducing the number of components or features costs some accuracy and on the other hand, it makes the large data set simpler ,easy to explore and visualize."
   ]
  },
  {
   "cell_type": "markdown",
   "id": "f4f626a1-4cf5-42c3-a91d-115254d7fe0f",
   "metadata": {},
   "source": [
    "5. Why is it necessary to investigate data? Is there a discrepancy in how qualitative and quantitative\n",
    "data are explored?\n",
    "\n"
   ]
  },
  {
   "cell_type": "markdown",
   "id": "5b0ba827-b859-4d73-a715-1fda214670f7",
   "metadata": {},
   "source": [
    "If your data set is messy, building models will not help you to solve your problem. What will happen is Garbage In, Garbage Out.In order to build a powerful machine learning algorithum.We need to explore and understand our data set before we define a predictive task and solve it."
   ]
  },
  {
   "cell_type": "markdown",
   "id": "f93cc306-0cc5-44e1-98a6-a350f8ed298e",
   "metadata": {},
   "source": [
    "6. What are the various histogram shapes? What exactly are 'bins'?\n",
    "\n"
   ]
  },
  {
   "cell_type": "markdown",
   "id": "40bc6b37-3f7c-4f93-96c7-164555dc5b98",
   "metadata": {},
   "source": [
    "The different types os Histogram are:\n",
    "\n",
    "1.Uninform Histogram\n",
    "\n",
    "2.Symmetric Histogram\n",
    "\n",
    "3.Bimodal Histogram\n",
    "\n",
    "4.Probability Histogram\n",
    "\n",
    "The bin in a histogram is the choice of unit and spacing on the X-axis. All the data in a probability distribution represented visually by a histogram is filled into the corresponding bins. The height of each bin a measurement of the frequency with which data appears inside the range of that bin in the distribution."
   ]
  },
  {
   "cell_type": "markdown",
   "id": "70c8a65b-54b8-47a4-a444-2e4f5ba140ab",
   "metadata": {},
   "source": [
    "7. How do we deal with data outliers?\n",
    "\n"
   ]
  },
  {
   "cell_type": "raw",
   "id": "5a11da8d-c318-4402-b508-07742c8c4162",
   "metadata": {},
   "source": [
    "We can use Z-score or any of below methods to deal with data outliers:\n",
    "\n",
    "Univariate Method : This method looks for data points with extreme values on one variable.\n",
    "\n",
    "Multivariate Method : Here, we look for unusual combinations of all the variables.\n",
    "\n",
    "Minkowski Error : This method reduces the conteibution of potential outliers in the training process.\n",
    "\n",
    "Z-score : This can be done with just one line code as we have already calculated the Z-score.\n",
    "boston_df_o=boston_df_o[(z < 3).all(axis=1)]\n",
    "\n",
    "IQR Score : Calculate IQR score to filter out the outliers by keeping only valid values.\n",
    "boston_df_out=boston_df_o1[~((boston_df_o1 < (Q1 - 1.5 * IQR))|(boston_df_o1 > (Q3 + 1.5 *IQR))).any(axis=1)]\n",
    "boston_df_out.shape\n",
    "\n",
    "Quantile function : Use quantile() to remove amount of data.\n"
   ]
  },
  {
   "cell_type": "markdown",
   "id": "5bd304eb-5203-4fd5-983f-f1511e91e4a9",
   "metadata": {},
   "source": [
    "8. What are the various central inclination measures? Why does mean vary too much from median in\n",
    "certain data sets?\n",
    "\n"
   ]
  },
  {
   "cell_type": "markdown",
   "id": "82a53ef0-5aec-4a81-a17a-b657a3e9a23c",
   "metadata": {},
   "source": [
    "Mean,Median and Mode are Central Inclination Measures.Mean varies more than Median due to presence of outliers,as mean is averaging all point while median is like finding a middle number."
   ]
  },
  {
   "cell_type": "markdown",
   "id": "4903b376-148d-43cf-a6e5-94ae7d43968a",
   "metadata": {},
   "source": [
    "9. Describe how a scatter plot can be used to investigate bivariate relationships. Is it possible to find\n",
    "outliers using a scatter plot?"
   ]
  },
  {
   "cell_type": "markdown",
   "id": "ad4e87f9-7870-4604-8307-91686e3d49c6",
   "metadata": {},
   "source": [
    "A Scatter Plot (aka scatter chart,scatter graph)used dots to represent values for two different numeric\n",
    "varibles.The position of each dot on the horizontal and vertical axis indicates values for an individual data point.\n",
    "So this visualization gives us the idea of bivariate relationship.\n",
    "\n",
    "Scatter plot can also help finding outliers as outliers can be visualized at farther distance than regular data."
   ]
  },
  {
   "cell_type": "markdown",
   "id": "ded724f4-5c5a-4c17-8033-b66e4397744c",
   "metadata": {},
   "source": [
    "10. Describe how cross-tabs can be used to figure out how two variables are related."
   ]
  },
  {
   "cell_type": "markdown",
   "id": "2f0a1df6-b33c-4196-82d9-ec04383a3b10",
   "metadata": {},
   "source": [
    "Cross tabulation is a method to quantitatively analyze the relationship between multiple variables. Also knowa as contingency tables or cross tabs, cross tabulation groups variables to understand the correlation between different \n",
    "variables. It also shows how correlations change from one variable grouping to another."
   ]
  },
  {
   "cell_type": "code",
   "execution_count": null,
   "id": "5009b29c-f5eb-4e4e-a007-0e978d5bf715",
   "metadata": {},
   "outputs": [],
   "source": []
  }
 ],
 "metadata": {
  "kernelspec": {
   "display_name": "Python 3 (ipykernel)",
   "language": "python",
   "name": "python3"
  },
  "language_info": {
   "codemirror_mode": {
    "name": "ipython",
    "version": 3
   },
   "file_extension": ".py",
   "mimetype": "text/x-python",
   "name": "python",
   "nbconvert_exporter": "python",
   "pygments_lexer": "ipython3",
   "version": "3.9.12"
  }
 },
 "nbformat": 4,
 "nbformat_minor": 5
}
